{
  "nbformat": 4,
  "nbformat_minor": 0,
  "metadata": {
    "colab": {
      "provenance": [],
      "collapsed_sections": []
    },
    "kernelspec": {
      "name": "python3",
      "display_name": "Python 3"
    },
    "language_info": {
      "name": "python"
    }
  },
  "cells": [
    {
      "cell_type": "markdown",
      "source": [
        "# **Funciones**\n",
        "\n",
        "*Valor absoluto*\n",
        "\n",
        "**Link para conocer variables básicas**\n",
        "https://docs.python.org/3/library/functions.html"
      ],
      "metadata": {
        "id": "LlhQzYSj3vmo"
      }
    },
    {
      "cell_type": "code",
      "execution_count": null,
      "metadata": {
        "colab": {
          "base_uri": "https://localhost:8080/"
        },
        "id": "yDmsgAQg3p6h",
        "outputId": "bf87fbee-77cb-4bda-c134-00c5d476f0d3"
      },
      "outputs": [
        {
          "output_type": "stream",
          "name": "stdout",
          "text": [
            "\n",
            "x = -5\n",
            "y =  5 \n",
            "\n"
          ]
        }
      ],
      "source": [
        "# Valor absoluto\n",
        "x = -5\n",
        "y = abs(x)\n",
        "print(\"\\nx =\", x) # crea un salto de línea antes de imprimir\n",
        "print(\"y = \", y,\"\\n\") # crea un salto de línea después de imprimir"
      ]
    },
    {
      "cell_type": "code",
      "source": [
        "# conocer la api de un función\n",
        "help(print)"
      ],
      "metadata": {
        "colab": {
          "base_uri": "https://localhost:8080/"
        },
        "id": "2hbwbp4Y8Qgx",
        "outputId": "24559d1c-aab1-4d9f-e956-0ad6561a1fce"
      },
      "execution_count": null,
      "outputs": [
        {
          "output_type": "stream",
          "name": "stdout",
          "text": [
            "Help on built-in function print in module builtins:\n",
            "\n",
            "print(...)\n",
            "    print(value, ..., sep=' ', end='\\n', file=sys.stdout, flush=False)\n",
            "    \n",
            "    Prints the values to a stream, or to sys.stdout by default.\n",
            "    Optional keyword arguments:\n",
            "    file:  a file-like object (stream); defaults to the current sys.stdout.\n",
            "    sep:   string inserted between values, default a space.\n",
            "    end:   string appended after the last value, default a newline.\n",
            "    flush: whether to forcibly flush the stream.\n",
            "\n"
          ]
        }
      ]
    },
    {
      "cell_type": "code",
      "source": [
        "# Suma de los elementos de una lista\n",
        "v = [1,2,3,4,5,6]\n",
        "s = sum(v)\n",
        "print(\"resultado:\", s,\"\\n\")"
      ],
      "metadata": {
        "colab": {
          "base_uri": "https://localhost:8080/"
        },
        "id": "ZPTmnnqU91tM",
        "outputId": "91b1ea27-b9d7-42f4-e42f-9b832be1b5b5"
      },
      "execution_count": null,
      "outputs": [
        {
          "output_type": "stream",
          "name": "stdout",
          "text": [
            "resultado: 21 \n",
            "\n"
          ]
        }
      ]
    },
    {
      "cell_type": "code",
      "source": [
        "# Máximo y mínimo\n",
        "a1 = max(v)\n",
        "a2 = min(v)\n",
        "\n",
        "print(\"a1: {}, a2: {}\".format(a1, a2)) # imprime y con format añade las varibles \n",
        "                                      # en los corchetes"
      ],
      "metadata": {
        "colab": {
          "base_uri": "https://localhost:8080/"
        },
        "id": "TzzKYRei96RE",
        "outputId": "009ea2fd-882f-44a4-c95b-a3aea27f7e2b"
      },
      "execution_count": null,
      "outputs": [
        {
          "output_type": "stream",
          "name": "stdout",
          "text": [
            "a1: 6, a2: 1\n"
          ]
        }
      ]
    },
    {
      "cell_type": "markdown",
      "source": [
        "ejemplo para construir seno"
      ],
      "metadata": {
        "id": "dRXqsB_O_1wr"
      }
    },
    {
      "cell_type": "code",
      "source": [
        "# Comente adecuadamente las siguientes líneas de código\n",
        "\n",
        "import numpy as np # importa la librería Numpy\n",
        "import matplotlib.pyplot as plt # importa la librería matplotlib.pyplot\n",
        "\n",
        "# calcula la función sin en 30 puntos\n",
        "x = np.linspace(0,2*np.pi,80) #genera 30 datos en el intervalo [0,2pi)\n",
        "y = np.sin(x) # calcula el seno de cada dato en x anteriormente creado\n",
        "\n",
        "# Imprime la tabla de valores. \n",
        "# Usamos zip para pegar las columnas x, y\n",
        "print('Estos son los valores para el gráfico  de la función')\n",
        "print(\"x     y\")\n",
        "x_y = zip(np.round(x,2),np.round(y,2)) #redonde con np.round a dos cifras e \n",
        "                                      # imprimela tabla de valores\n",
        "# print(x_y) al ser un itrebale imprimir no lo imprime\n",
        "# para imprimir el iterable x_Y\n",
        "for values in x_y: # crea un ciclo que recorre el iterable\n",
        "    print(values) # imprime el valor de cada lugar del iterable\n",
        "print('') # imprime un espacio \n",
        "\n",
        "# crea la imagen\n",
        "print('Imagen')\n",
        "\n",
        "plt.title('Gráfico de la función $y=\\sin(x)$')\n",
        "plt.xlabel('x')\n",
        "plt.ylabel('$\\sin (x)$')\n",
        "plt.plot(x,y)\n",
        "plt.show()"
      ],
      "metadata": {
        "colab": {
          "base_uri": "https://localhost:8080/",
          "height": 1000
        },
        "id": "ejy69o7r_03Y",
        "outputId": "43630ea5-28c5-4ecd-eb29-c2a288c0ad8d"
      },
      "execution_count": null,
      "outputs": [
        {
          "output_type": "stream",
          "name": "stdout",
          "text": [
            "Estos son los valores para el gráfico  de la función\n",
            "x     y\n",
            "(0.0, 0.0)\n",
            "(0.08, 0.08)\n",
            "(0.16, 0.16)\n",
            "(0.24, 0.24)\n",
            "(0.32, 0.31)\n",
            "(0.4, 0.39)\n",
            "(0.48, 0.46)\n",
            "(0.56, 0.53)\n",
            "(0.64, 0.59)\n",
            "(0.72, 0.66)\n",
            "(0.8, 0.71)\n",
            "(0.87, 0.77)\n",
            "(0.95, 0.82)\n",
            "(1.03, 0.86)\n",
            "(1.11, 0.9)\n",
            "(1.19, 0.93)\n",
            "(1.27, 0.96)\n",
            "(1.35, 0.98)\n",
            "(1.43, 0.99)\n",
            "(1.51, 1.0)\n",
            "(1.59, 1.0)\n",
            "(1.67, 1.0)\n",
            "(1.75, 0.98)\n",
            "(1.83, 0.97)\n",
            "(1.91, 0.94)\n",
            "(1.99, 0.91)\n",
            "(2.07, 0.88)\n",
            "(2.15, 0.84)\n",
            "(2.23, 0.79)\n",
            "(2.31, 0.74)\n",
            "(2.39, 0.69)\n",
            "(2.47, 0.63)\n",
            "(2.55, 0.56)\n",
            "(2.62, 0.49)\n",
            "(2.7, 0.42)\n",
            "(2.78, 0.35)\n",
            "(2.86, 0.27)\n",
            "(2.94, 0.2)\n",
            "(3.02, 0.12)\n",
            "(3.1, 0.04)\n",
            "(3.18, -0.04)\n",
            "(3.26, -0.12)\n",
            "(3.34, -0.2)\n",
            "(3.42, -0.27)\n",
            "(3.5, -0.35)\n",
            "(3.58, -0.42)\n",
            "(3.66, -0.49)\n",
            "(3.74, -0.56)\n",
            "(3.82, -0.63)\n",
            "(3.9, -0.69)\n",
            "(3.98, -0.74)\n",
            "(4.06, -0.79)\n",
            "(4.14, -0.84)\n",
            "(4.22, -0.88)\n",
            "(4.29, -0.91)\n",
            "(4.37, -0.94)\n",
            "(4.45, -0.97)\n",
            "(4.53, -0.98)\n",
            "(4.61, -1.0)\n",
            "(4.69, -1.0)\n",
            "(4.77, -1.0)\n",
            "(4.85, -0.99)\n",
            "(4.93, -0.98)\n",
            "(5.01, -0.96)\n",
            "(5.09, -0.93)\n",
            "(5.17, -0.9)\n",
            "(5.25, -0.86)\n",
            "(5.33, -0.82)\n",
            "(5.41, -0.77)\n",
            "(5.49, -0.71)\n",
            "(5.57, -0.66)\n",
            "(5.65, -0.59)\n",
            "(5.73, -0.53)\n",
            "(5.81, -0.46)\n",
            "(5.89, -0.39)\n",
            "(5.97, -0.31)\n",
            "(6.04, -0.24)\n",
            "(6.12, -0.16)\n",
            "(6.2, -0.08)\n",
            "(6.28, -0.0)\n",
            "Imagen\n"
          ]
        },
        {
          "output_type": "display_data",
          "data": {
            "text/plain": [
              "<Figure size 432x288 with 1 Axes>"
            ],
            "image/png": "[encoded data removed]"
          },
          "metadata": {
            "needs_background": "light"
          }
        }
      ]
    },
    {
      "cell_type": "code",
      "source": [
        "print(x_y) #al ser un itrebale imprimir no lo imprime solo muestra \n",
        "           # que objeto es y su apuntador\n"
      ],
      "metadata": {
        "colab": {
          "base_uri": "https://localhost:8080/",
          "height": 207
        },
        "id": "kK-KIy6mYjL9",
        "outputId": "c0f9c4bb-d1a3-4665-86b8-c0499e648b2e"
      },
      "execution_count": null,
      "outputs": [
        {
          "output_type": "error",
          "ename": "NameError",
          "evalue": "ignored",
          "traceback": [
            "\u001b[0;31m---------------------------------------------------------------------------\u001b[0m",
            "\u001b[0;31mNameError\u001b[0m                                 Traceback (most recent call last)",
            "\u001b[0;32m<ipython-input-1-1047350f760c>\u001b[0m in \u001b[0;36m<module>\u001b[0;34m\u001b[0m\n\u001b[0;32m----> 1\u001b[0;31m \u001b[0mprint\u001b[0m\u001b[0;34m(\u001b[0m\u001b[0mx_y\u001b[0m\u001b[0;34m)\u001b[0m \u001b[0;31m#al ser un itrebale imprimir no lo imprime solo muestra\u001b[0m\u001b[0;34m\u001b[0m\u001b[0;34m\u001b[0m\u001b[0m\n\u001b[0m\u001b[1;32m      2\u001b[0m            \u001b[0;31m# que objeto es y su apuntador\u001b[0m\u001b[0;34m\u001b[0m\u001b[0;34m\u001b[0m\u001b[0;34m\u001b[0m\u001b[0m\n\u001b[1;32m      3\u001b[0m \u001b[0mprint\u001b[0m\u001b[0;34m(\u001b[0m\u001b[0;34mr'hola \\ será'\u001b[0m\u001b[0;34m)\u001b[0m\u001b[0;34m\u001b[0m\u001b[0;34m\u001b[0m\u001b[0m\n",
            "\u001b[0;31mNameError\u001b[0m: name 'x_y' is not defined"
          ]
        }
      ]
    },
    {
      "cell_type": "markdown",
      "source": [
        "***Ejercicio***"
      ],
      "metadata": {
        "id": "rlG3MHf8aCDE"
      }
    },
    {
      "cell_type": "markdown",
      "source": [
        "# **Progrmación funcional**"
      ],
      "metadata": {
        "id": "U1Q9ORIcG3kS"
      }
    },
    {
      "cell_type": "code",
      "source": [
        "# Explicar adecuadamente\n",
        "# la función se crea como una fábrica de funciones\n",
        "def myfunc(n):    # crea la función\n",
        "    return lambda a : a * n  \n",
        "\n",
        "\n",
        "mydoubler = myfunc(2) # multuiplica x2 \n",
        "mytriple = myfunc(3) # multiplica x3\n",
        "#print(mydoubler)\n",
        "print(mydoubler(11))\n",
        "print(mytriple(10))"
      ],
      "metadata": {
        "colab": {
          "base_uri": "https://localhost:8080/"
        },
        "id": "s52Fkm26G9VV",
        "outputId": "ee48877c-2cc5-4674-d8de-513dc094a10a"
      },
      "execution_count": null,
      "outputs": [
        {
          "output_type": "stream",
          "name": "stdout",
          "text": [
            "22\n",
            "30\n"
          ]
        }
      ]
    },
    {
      "cell_type": "markdown",
      "source": [
        "***Diccionario***"
      ],
      "metadata": {
        "id": "Dg6O_rK8FCl_"
      }
    },
    {
      "cell_type": "code",
      "source": [
        "# Creación de un diccionario\n",
        "d = dict({\"Saludo\": \"Hola\", \"Despido\": \"Adiós\", \"Palabra\": \"Extraño\"})\n",
        "print(\"Dicionario: \",d,\"\\n\")"
      ],
      "metadata": {
        "colab": {
          "base_uri": "https://localhost:8080/"
        },
        "outputId": "537d22af-109a-455f-882e-ead0b3dd160e",
        "id": "JosIWl68FJB_"
      },
      "execution_count": null,
      "outputs": [
        {
          "output_type": "stream",
          "name": "stdout",
          "text": [
            "Dicionario:  {'Saludo': 'Hola', 'Despido': 'Adiós', 'Palabra': 'Extraño'} \n",
            "\n"
          ]
        }
      ]
    },
    {
      "cell_type": "code",
      "source": [
        "def intro(**data):\n",
        "    print(\"\\nTipo de dato del argumento:\",type(data))\n",
        "\n",
        "    for key, value in data.items():\n",
        "        print(\"{} is {}\".format(key,value))\n",
        "\n",
        "intro(Firstname=\"Sita\", Lastname=\"Sharma\", Age=22, Phone=1234567890)\n",
        "intro(Firstname=\"John\", Lastname=\"Wood\", Email=\"johnwood@nomail.com\", Country=\"Wakanda\", Age=25, Phone=9876543210)"
      ],
      "metadata": {
        "colab": {
          "base_uri": "https://localhost:8080/"
        },
        "id": "0y0Mk4ihFOPe",
        "outputId": "2f07ed70-6b05-43fb-8298-7583ddf7d5a9"
      },
      "execution_count": null,
      "outputs": [
        {
          "output_type": "stream",
          "name": "stdout",
          "text": [
            "\n",
            "Tipo de dato del argumento: <class 'dict'>\n",
            "Firstname is Sita\n",
            "Lastname is Sharma\n",
            "Age is 22\n",
            "Phone is 1234567890\n",
            "\n",
            "Tipo de dato del argumento: <class 'dict'>\n",
            "Firstname is John\n",
            "Lastname is Wood\n",
            "Email is johnwood@nomail.com\n",
            "Country is Wakanda\n",
            "Age is 25\n",
            "Phone is 9876543210\n"
          ]
        }
      ]
    },
    {
      "cell_type": "markdown",
      "source": [
        "# ***Iterables***"
      ],
      "metadata": {
        "id": "6g_1qS9fJXtt"
      }
    },
    {
      "cell_type": "code",
      "source": [
        "def gen_numbers():\n",
        "    yield 1\n",
        "    yield 2\n",
        "    yield 3\n",
        "##########################\n",
        "for i in gen_numbers():\n",
        "    print(i)"
      ],
      "metadata": {
        "colab": {
          "base_uri": "https://localhost:8080/"
        },
        "id": "ZJFO12mrJXIu",
        "outputId": "27bdd9e7-d978-4e6f-d3de-140397faf28b"
      },
      "execution_count": null,
      "outputs": [
        {
          "output_type": "stream",
          "name": "stdout",
          "text": [
            "1\n",
            "2\n",
            "3\n"
          ]
        }
      ]
    },
    {
      "cell_type": "markdown",
      "source": [
        "**Clase iterable**"
      ],
      "metadata": {
        "id": "fCENb4ScLV_x"
      }
    },
    {
      "cell_type": "code",
      "source": [
        "class Evens(object): ### crea la clase\n",
        "    def __init__(self, limit):      \n",
        "        self.limit = limit\n",
        "        self.val = 0\n",
        "    \n",
        "    # Hace esta clase iterable\n",
        "    def __iter__(self):\n",
        "        return self\n",
        "    \n",
        "    # Hace esta clase un iterador\n",
        "    def __next__(self):\n",
        "        if self.val > self.limit:\n",
        "            raise StopIteration\n",
        "        else:\n",
        "            return_val = self.val\n",
        "            self.val += 2\n",
        "            return return_val\n",
        "\n",
        "################################\n",
        "\n",
        "print('¡Empezamos')\n",
        "for i in Evens(16):\n",
        "    print(i,end=', ')\n",
        "print('\\nHecho!')\n",
        "#####################\n"
      ],
      "metadata": {
        "colab": {
          "base_uri": "https://localhost:8080/"
        },
        "id": "4u6NzH-RLZhT",
        "outputId": "aef23d4a-bb01-4c18-d436-5a2a58bb166f"
      },
      "execution_count": null,
      "outputs": [
        {
          "output_type": "stream",
          "name": "stdout",
          "text": [
            "¡Empezamos\n",
            "0, 2, 4, 6, 8, 10, 12, 14, 16, \n",
            "Hecho!\n"
          ]
        }
      ]
    },
    {
      "cell_type": "code",
      "source": [
        "print('hola \\\\ será')"
      ],
      "metadata": {
        "colab": {
          "base_uri": "https://localhost:8080/"
        },
        "id": "qkK1bdoQ8CFq",
        "outputId": "6b8f44d5-ab18-41d7-9b30-75a3fc7a170f"
      },
      "execution_count": null,
      "outputs": [
        {
          "output_type": "stream",
          "name": "stdout",
          "text": [
            "hola \\ será\n"
          ]
        }
      ]
    },
    {
      "cell_type": "markdown",
      "source": [
        "# **Función**"
      ],
      "metadata": {
        "id": "CwgiMXKlDyb6"
      }
    },
    {
      "cell_type": "code",
      "source": [
        "# Explicar las siguientes líneas de código\n",
        "def mysum_prod(x,y): # crea la función suma y producto establce cuantos parámetros\n",
        "    s = x + y # crea una variable intermedia para la suma\n",
        "    p = x * y # crea un varible intermedia para el producto\n",
        "    return s,p # de vuelve las varibles con el resultado\n",
        "# resultado como tupla\n",
        "result = mysum_prod(3,4)\n",
        "print(result)\n",
        "print(\" \")\n",
        "# separadas las respuestas\n",
        "suma, prod = mysum_prod(3,4)\n",
        "print(\"La suma es:\", suma)\n",
        "print(\"El producto es:\", prod)"
      ],
      "metadata": {
        "colab": {
          "base_uri": "https://localhost:8080/"
        },
        "id": "B78YL7usEwJw",
        "outputId": "1d2d77a8-1da4-408f-ff0c-735f0ca04751"
      },
      "execution_count": null,
      "outputs": [
        {
          "output_type": "stream",
          "name": "stdout",
          "text": [
            "(7, 12)\n",
            " \n",
            "La suma es: 7\n",
            "El producto es: 12\n"
          ]
        }
      ]
    },
    {
      "cell_type": "markdown",
      "source": [
        "**Typing**\n",
        "\n",
        "Es un buena práctica la de indicar que tipo de dato la función espera en sus parámetros y cual da de salida. Aun así python trabajará con cualquier caso por su forma de ser."
      ],
      "metadata": {
        "id": "pd65EpFiGRD4"
      }
    },
    {
      "cell_type": "code",
      "source": [
        "def mysum_prod(x: int, y: int) -> [int, int]:\n",
        "    s = x + y\n",
        "    p = y * x\n",
        "    return [s,p]\n",
        "\n",
        "mysum_prod(2.2, 3)"
      ],
      "metadata": {
        "colab": {
          "base_uri": "https://localhost:8080/"
        },
        "id": "zKpOIdbQGQJK",
        "outputId": "22e870c7-093a-4f66-a973-65ae60ff49a1"
      },
      "execution_count": null,
      "outputs": [
        {
          "output_type": "execute_result",
          "data": {
            "text/plain": [
              "[5.2, 6.6000000000000005]"
            ]
          },
          "metadata": {},
          "execution_count": 8
        }
      ]
    },
    {
      "cell_type": "markdown",
      "source": [
        "## **Número arbitrario de argumentos**\n",
        "\n",
        "Cuando no sabes cuantos parámetros tendrá la función"
      ],
      "metadata": {
        "id": "tBhlT5YEHQwK"
      }
    },
    {
      "cell_type": "code",
      "source": [
        "# sumador\n",
        "\n",
        "def adder(*num): # *num permite que sea indeterminados la cantidad de parámetros\n",
        "                 # para la función pero númericoscomo se indico\n",
        "    sum = 0\n",
        "    \n",
        "    for n in num:\n",
        "        sum = sum + n\n",
        "\n",
        "    print(\"Sum:\",sum)\n",
        "\n",
        "adder(3,5)\n",
        "adder(4,5,6,7)\n",
        "adder(1,2,3,5,6)"
      ],
      "metadata": {
        "colab": {
          "base_uri": "https://localhost:8080/"
        },
        "id": "MvVqRXmCHZ0Y",
        "outputId": "d82e13c2-3af9-4029-a527-86ecab0c5ba8"
      },
      "execution_count": null,
      "outputs": [
        {
          "output_type": "stream",
          "name": "stdout",
          "text": [
            "Sum: 8\n",
            "Sum: 22\n",
            "Sum: 17\n"
          ]
        }
      ]
    },
    {
      "cell_type": "code",
      "source": [
        "# pegador de palabras\n",
        "\n",
        "def pegador(*args):\n",
        "  palabra = ' '\n",
        "  for i in args:\n",
        "    palabra = palabra + i\n",
        "  print('La oración es:', palabra)\n",
        "  ###################################\n",
        "pegador('Hola',' manko',' por qué', ' haces', ' esto', ' ah?')"
      ],
      "metadata": {
        "colab": {
          "base_uri": "https://localhost:8080/"
        },
        "id": "pvwqq0JyIAHj",
        "outputId": "2084421b-e9d3-4d09-b38a-c9f6e1014d4c"
      },
      "execution_count": null,
      "outputs": [
        {
          "output_type": "stream",
          "name": "stdout",
          "text": [
            "La oración es:  Hola manko por qué haces esto ah?\n"
          ]
        }
      ]
    },
    {
      "cell_type": "code",
      "source": [
        "#### **args permite nombrar a los parámetros\n",
        "def intro(**data):\n",
        "    print(\"\\nTipo de dato del argumento:\",type(data))\n",
        "\n",
        "    for key, value in data.items():\n",
        "        print(\"{} is {}\".format(key,value))\n",
        "\n",
        "intro(Firstname=\"Sita\", Lastname=\"Sharma\", Age=22, Phone=1234567890)\n",
        "intro(Firstname=\"John\", Lastname=\"Wood\", Email=\"johnwood@nomail.com\", Country=\"Wakanda\", Age=25, Phone=9876543210)"
      ],
      "metadata": {
        "id": "WBWfkDUJNaAn"
      },
      "execution_count": null,
      "outputs": []
    },
    {
      "cell_type": "markdown",
      "source": [
        "## ***Funciones Anonimas***"
      ],
      "metadata": {
        "id": "1bif6XolOH8W"
      }
    },
    {
      "cell_type": "code",
      "source": [
        "# Explique qué diferencias hay entre éste método y el anterior\n",
        "\n",
        "sumita = lambda arg1,arg2: arg1+arg2\n",
        "# la función es simple y se guarda en el objeto sumita\n",
        "a=6\n",
        "b=65\n",
        "s = sumita(a,b)\n",
        "print(\"la suma es:\", s)"
      ],
      "metadata": {
        "colab": {
          "base_uri": "https://localhost:8080/"
        },
        "id": "ilGxwaKaOL2N",
        "outputId": "79352964-4708-4321-db77-49c718722c0e"
      },
      "execution_count": null,
      "outputs": [
        {
          "output_type": "stream",
          "name": "stdout",
          "text": [
            "la suma es: 71\n"
          ]
        }
      ]
    },
    {
      "cell_type": "markdown",
      "source": [
        "**Ejercicio**"
      ],
      "metadata": {
        "id": "RFuJY7UgQSnn"
      }
    },
    {
      "cell_type": "code",
      "source": [
        "\n",
        "def Saludo(n):\n",
        "    return lambda a : n + a \n",
        "\n",
        "mysaludo = Saludo('Hello! ')\n",
        "#print(mydoubler)\n",
        "print(mysaludo('María'))"
      ],
      "metadata": {
        "colab": {
          "base_uri": "https://localhost:8080/"
        },
        "id": "ztQ9WIslQWjH",
        "outputId": "2939c372-94e8-478d-92d0-9e72ab8a6252"
      },
      "execution_count": null,
      "outputs": [
        {
          "output_type": "stream",
          "name": "stdout",
          "text": [
            "Hello! María\n"
          ]
        }
      ]
    },
    {
      "cell_type": "code",
      "source": [
        "# Ejemplo de una función pura\n",
        "\n",
        "# Una función pura que no\n",
        "# cambia la lista de entrada y\n",
        "# devuelve la nueva lista\n",
        "\n",
        "def pure_func(List):\n",
        "    New_List = []\n",
        "    for i in List:\n",
        "        New_List.append(i**2) # agrega un elemento al final de una lista\n",
        "    return New_List\n",
        "\n",
        "# La función en acción\n",
        "Original_List = [1, 2, 3, 4]\n",
        "Modified_List = pure_func(Original_List)\n",
        "\n",
        "print(\"Lista original:\", Original_List)\n",
        "print(\"Lista modificada:\", Modified_List)"
      ],
      "metadata": {
        "colab": {
          "base_uri": "https://localhost:8080/"
        },
        "id": "15bhoQJLYX4l",
        "outputId": "e73ef7c8-8d43-4d7c-8c16-73db30e0268a"
      },
      "execution_count": null,
      "outputs": [
        {
          "output_type": "stream",
          "name": "stdout",
          "text": [
            "Lista original: [1, 2, 3, 4]\n",
            "Lista modificada: [1, 4, 9, 16]\n"
          ]
        }
      ]
    },
    {
      "cell_type": "markdown",
      "source": [
        "## ***Recursión***"
      ],
      "metadata": {
        "id": "70zQVay0YoZc"
      }
    },
    {
      "cell_type": "code",
      "source": [
        "# Ejemplo de recursión\n",
        "\n",
        "# Función recursiva para encontrar\n",
        "# suma de una lista\n",
        "\n",
        "def Sum(L, i, n, count):\n",
        "\n",
        "    # Caso base \n",
        "    if n <= i:\n",
        "        return count\n",
        "\n",
        "    count += L[i]\n",
        "\n",
        "    # Proceso recursivo\n",
        "    count = Sum(L, i + 1, n, count)\n",
        "\n",
        "    return count\n",
        "\n",
        "# Ejemplo de uso\n",
        "L = [1, 2, 3, 4, 5]\n",
        "count = 0\n",
        "n = len(L)\n",
        "print(Sum(L, 0, n, count))"
      ],
      "metadata": {
        "colab": {
          "base_uri": "https://localhost:8080/"
        },
        "id": "FbGRHbonYr-n",
        "outputId": "ac2fc996-603f-434b-f264-e5bb351d1cb6"
      },
      "execution_count": null,
      "outputs": [
        {
          "output_type": "stream",
          "name": "stdout",
          "text": [
            "15\n"
          ]
        }
      ]
    },
    {
      "cell_type": "markdown",
      "source": [
        "## **Función de orden superior**"
      ],
      "metadata": {
        "id": "Zq6CIoYIa5CH"
      }
    },
    {
      "cell_type": "code",
      "source": [
        "# Ejemplo del uso de map()\n",
        "\n",
        "# Retorna el doble de n\n",
        "def addition(n):\n",
        "    return n + n\n",
        "\n",
        "# doblamos todos los valores de una lista usando map\n",
        "numbers = (1, 2, 3, 4)\n",
        "results = map(addition, numbers)\n",
        "\n",
        "#  Print no imprime los resultados\n",
        "# porque se recibe un iterable\n",
        "print(results)\n",
        "\n",
        "# Asi recuperamos del iterable los valores e imprimimos\n",
        "for result in results:\n",
        "    print(result, end = \" \")"
      ],
      "metadata": {
        "colab": {
          "base_uri": "https://localhost:8080/"
        },
        "id": "wun04Zxna8uN",
        "outputId": "451ed1b3-ca91-471c-cbd2-eed2341d2337"
      },
      "execution_count": null,
      "outputs": [
        {
          "output_type": "stream",
          "name": "stdout",
          "text": [
            "<map object at 0x7fd6bba5bf90>\n",
            "2 4 6 8 "
          ]
        }
      ]
    },
    {
      "cell_type": "code",
      "source": [
        "# Ejemplo de uso de filter()\n",
        "\n",
        "# función que filtra las vocales en una lista\n",
        "def vocal(variable):\n",
        "\n",
        "    letters = ['a', 'e', 'i', 'o', 'u']\n",
        "\n",
        "    if (variable in letters):\n",
        "        return True\n",
        "    else:\n",
        "        return False\n",
        "\n",
        "\n",
        "# secuencia\n",
        "sequence = ['g', 'e', 'e', 'j', 'k', 's', 'i', 'r']\n",
        "\n",
        "# uso de la función filter\n",
        "filtered = filter(vocal, sequence)\n",
        "\n",
        "print('Las letras filtradas son:')\n",
        "\n",
        "for s in filtered:\n",
        "    print(s)"
      ],
      "metadata": {
        "id": "MXdfrRasbKe5"
      },
      "execution_count": null,
      "outputs": []
    },
    {
      "cell_type": "markdown",
      "source": [
        "## **Generadora**"
      ],
      "metadata": {
        "id": "iFeuigTBKeCC"
      }
    },
    {
      "cell_type": "code",
      "source": [
        "def gen_numbers():\n",
        "    yield 1\n",
        "    yield 2\n",
        "    yield 3\n",
        "\n",
        "###################\n",
        "for i in gen_numbers():\n",
        "    print(i)"
      ],
      "metadata": {
        "colab": {
          "base_uri": "https://localhost:8080/"
        },
        "id": "kRagqDCvKhNx",
        "outputId": "1d6ffc72-950e-4f7c-bca2-9c395cb7d7fa"
      },
      "execution_count": 2,
      "outputs": [
        {
          "output_type": "stream",
          "name": "stdout",
          "text": [
            "1\n",
            "2\n",
            "3\n"
          ]
        }
      ]
    },
    {
      "cell_type": "code",
      "source": [
        "def gen_numbers2():\n",
        "    print('Start')\n",
        "    yield 1\n",
        "    print('Continue')\n",
        "    yield 2\n",
        "    print('Final')\n",
        "    yield 3\n",
        "    print('End')\n",
        "\n",
        "for i in gen_numbers2():\n",
        "    print(i)"
      ],
      "metadata": {
        "colab": {
          "base_uri": "https://localhost:8080/"
        },
        "id": "5E7Lh7shK-8U",
        "outputId": "12bfae83-7f9c-4e5a-e10c-b4f683dc8e08"
      },
      "execution_count": 3,
      "outputs": [
        {
          "output_type": "stream",
          "name": "stdout",
          "text": [
            "Start\n",
            "1\n",
            "Continue\n",
            "2\n",
            "Final\n",
            "3\n",
            "End\n"
          ]
        }
      ]
    },
    {
      "cell_type": "markdown",
      "source": [
        "Se puede realizar que una clase sea iterable"
      ],
      "metadata": {
        "id": "Vx2_Hth8Mmzj"
      }
    },
    {
      "cell_type": "code",
      "source": [
        "class Evens(object):    # crea la clase\n",
        "    def __init__(self, limit):\n",
        "        self.limit = limit #define el limite dado \n",
        "        self.val = 0 #arranca el valor en 0\n",
        "    \n",
        "    # Hace esta clase iterable\n",
        "    def __iter__(self):\n",
        "        return self\n",
        "    \n",
        "    # Hace esta clase un iterador\n",
        "    def __next__(self):\n",
        "        if self.val > self.limit: # parada \n",
        "            raise StopIteration\n",
        "        else:\n",
        "            return_val = self.val # de vuelve el valor \n",
        "            self.val += 2 # aumenta en dos el valor anterior\n",
        "            return return_val #sale el valor aumentando de a dos\n",
        "\n",
        "  ###################################3\n",
        "print('¡Empezamos')\n",
        "for i in Evens(16):\n",
        "    print(i,end=', ')\n",
        "print('\\nHecho!')"
      ],
      "metadata": {
        "colab": {
          "base_uri": "https://localhost:8080/"
        },
        "id": "-zcxHzUcMpx6",
        "outputId": "e240bedf-3500-48b9-f17f-70255aa31660"
      },
      "execution_count": 6,
      "outputs": [
        {
          "output_type": "stream",
          "name": "stdout",
          "text": [
            "¡Empezamos\n",
            "0, 2, 4, 6, 8, 10, 12, 14, 16, \n",
            "Hecho!\n"
          ]
        }
      ]
    },
    {
      "cell_type": "markdown",
      "source": [
        "# **Tuplas**"
      ],
      "metadata": {
        "id": "5u_fTNELQSut"
      }
    },
    {
      "cell_type": "code",
      "source": [
        "tupla1 = (1,3,5,7) # crea la tupla\n",
        "###################\n",
        "print ('Acceso a la tupla con iterator')\n",
        "for i in tupla1:  # recorre la tupla e imprime sus valores\n",
        "    print(i)\n",
        "\n",
        "print('Acceso al tupla con índices')\n",
        "for i in range(len(tupla1)): # recorre los indices de la tupla\n",
        "    print(i, tupla1[i] ) # imprime indice junto con el elemento asocidao en la\n",
        "                          # en la tupla"
      ],
      "metadata": {
        "colab": {
          "base_uri": "https://localhost:8080/"
        },
        "id": "bTmIKojoQV4a",
        "outputId": "431d8f07-a1a8-4f9b-8c6a-a75f08ad5391"
      },
      "execution_count": 7,
      "outputs": [
        {
          "output_type": "stream",
          "name": "stdout",
          "text": [
            "Acceso a la tupla con iterator\n",
            "1\n",
            "3\n",
            "5\n",
            "7\n",
            "Acceso al tupla con índices\n",
            "0 1\n",
            "1 3\n",
            "2 5\n",
            "3 7\n"
          ]
        }
      ]
    },
    {
      "cell_type": "code",
      "source": [
        "#### un objeto de un tupla no puede ser modificado\n",
        "lista1 = [1,2,3]\n",
        "tupla2 = tuple(lista1)\n",
        "print(tupla2)\n",
        "############\n",
        "lista1[0] = 5\n",
        "print(lista1)\n",
        "##############\n",
        "try: \n",
        "    tupla2[0] = 5\n",
        "    print(tupla2)\n",
        "except: \n",
        "    print(\"problema encontrado\")"
      ],
      "metadata": {
        "colab": {
          "base_uri": "https://localhost:8080/"
        },
        "id": "BvkSn2qMR63G",
        "outputId": "4657b35b-8c55-45e7-df92-7fb3fac81334"
      },
      "execution_count": 8,
      "outputs": [
        {
          "output_type": "stream",
          "name": "stdout",
          "text": [
            "(1, 2, 3)\n",
            "[5, 2, 3]\n",
            "problema encontrado\n"
          ]
        }
      ]
    },
    {
      "cell_type": "code",
      "source": [
        "print('tupla1:\\t',tupla1)\n",
        "print('tupla1[:3]:\\t', tupla1[:3])\n",
        "print('tupla1[1:]:\\t', tupla1[1:])\n",
        "print('tupla1[0:1]:\\t', tupla1[0:1])\n",
        "print('tupla1[1:-1]:\\t', tupla1[1:-1])\n",
        "print('tupla1[:-1]:\\t', tupla1[:-1]) # señala el ultimo\n",
        "print('tupla1[:]:\\t', tupla1[:]) # toda\n",
        "print('tupla1[::2]:\\t', tupla1[::2]) # tomar de dos en dos"
      ],
      "metadata": {
        "colab": {
          "base_uri": "https://localhost:8080/"
        },
        "id": "hB6TYo-mTBls",
        "outputId": "8c4640b2-7e16-4340-b62f-0123102bc319"
      },
      "execution_count": 9,
      "outputs": [
        {
          "output_type": "stream",
          "name": "stdout",
          "text": [
            "tupla1:\t (1, 3, 5, 7)\n",
            "tupla1[:3]:\t (1, 3, 5)\n",
            "tupla1[1:]:\t (3, 5, 7)\n",
            "tupla1[0:1]:\t (1,)\n",
            "tupla1[1:-1]:\t (3, 5)\n",
            "tupla1[:-1]:\t (1, 3, 5)\n",
            "tupla1[:]:\t (1, 3, 5, 7)\n",
            "tupla1[::2]:\t (1, 5)\n"
          ]
        }
      ]
    },
    {
      "cell_type": "code",
      "source": [
        "####### tuplas reciben cualquier tipo de dato\n",
        "tupla1 = (1,3,5,7)\n",
        "tup2 = (1,\"John\", tupla1, True, -23.1)\n",
        "\n",
        "for i in tup2: # recorrear las por elemento\n",
        "    print(i)\n",
        "\n",
        "###################\n",
        "# recorrelos por los indices las tuplas}\n",
        "tupla1 = (1,3,5,7)\n",
        "tup2 = (1,\"John\", tupla1, True, -23.1)\n",
        "\n",
        "N = len(tup2)\n",
        "for i in range(N):\n",
        "    print(tup2[i])"
      ],
      "metadata": {
        "colab": {
          "base_uri": "https://localhost:8080/"
        },
        "id": "WYww5jXMThr8",
        "outputId": "a914d1e3-1787-47c6-8af8-585d45504cd5"
      },
      "execution_count": 10,
      "outputs": [
        {
          "output_type": "stream",
          "name": "stdout",
          "text": [
            "1\n",
            "John\n",
            "(1, 3, 5, 7)\n",
            "True\n",
            "-23.1\n",
            "1\n",
            "John\n",
            "(1, 3, 5, 7)\n",
            "True\n",
            "-23.1\n"
          ]
        }
      ]
    },
    {
      "cell_type": "markdown",
      "source": [
        "# **listas**"
      ],
      "metadata": {
        "id": "PO1JzIy9UrRG"
      }
    },
    {
      "cell_type": "code",
      "source": [
        "t1 = (1, 'Oleg', 24.5)\n",
        "l1 = ['Maria', 'Bonita']\n",
        "l2 = [t1, l1]\n",
        "t2 = (l2,'manzana')\n",
        "\n",
        "print('t1=', t1)\n",
        "print('l1=', l1)\n",
        "print('l2=', l2)\n",
        "print('t2=', t2)"
      ],
      "metadata": {
        "colab": {
          "base_uri": "https://localhost:8080/"
        },
        "id": "m-mlfQWfUubV",
        "outputId": "fdfa66f5-8381-477b-c806-893cef499573"
      },
      "execution_count": 11,
      "outputs": [
        {
          "output_type": "stream",
          "name": "stdout",
          "text": [
            "t1= (1, 'Oleg', 24.5)\n",
            "l1= ['Maria', 'Bonita']\n",
            "l2= [(1, 'Oleg', 24.5), ['Maria', 'Bonita']]\n",
            "t2= ([(1, 'Oleg', 24.5), ['Maria', 'Bonita']], 'manzana')\n"
          ]
        }
      ]
    },
    {
      "cell_type": "code",
      "source": [
        "######### ACCEDER A LOS ELEMENTOS DE LAS LISTAS \n",
        "for i in t1:\n",
        "    print(i)\n",
        "print('\\n')\n",
        "\n",
        "for i in l1:\n",
        "    print(i) \n",
        "print('\\n')\n",
        "\n",
        "for i in l2:\n",
        "    print(i)\n",
        "print('\\n')\n",
        "\n",
        "for i in t2:\n",
        "    print(i)"
      ],
      "metadata": {
        "colab": {
          "base_uri": "https://localhost:8080/"
        },
        "id": "RGemFZMvVDtk",
        "outputId": "1e019162-0b69-4bab-ec3f-0151af9eace6"
      },
      "execution_count": 12,
      "outputs": [
        {
          "output_type": "stream",
          "name": "stdout",
          "text": [
            "1\n",
            "Oleg\n",
            "24.5\n",
            "\n",
            "\n",
            "Maria\n",
            "Bonita\n",
            "\n",
            "\n",
            "(1, 'Oleg', 24.5)\n",
            "['Maria', 'Bonita']\n",
            "\n",
            "\n",
            "[(1, 'Oleg', 24.5), ['Maria', 'Bonita']]\n",
            "manzana\n"
          ]
        }
      ]
    },
    {
      "cell_type": "code",
      "source": [
        "##### recorrear adentro de elementos complejos de una lista\n",
        "print(t2[0]) # indice para el elemento primer elemento\n",
        "print(t2[1])\n",
        "print('\\n')\n",
        "\n",
        "print(t2[0][0]) # toma el primer elemento interno del primero de la lista\n",
        "print(t2[0][1]) # toma del primer elemento el segundo interno\n",
        "print('\\n')\n",
        "\n",
        "print(t2[0][0][0]) # de la primera ista toma de la tupla el primer elemento\n",
        "print(t2[0][0][1]) # de la primera ista toma de la tupla elsegundo elemento\n",
        "print(t2[0][0][2]) # de la primera ista toma de la tupla el tercero elemento\n",
        "print('\\n')\n",
        "\n",
        "print(t2[0][1][0]) # de la primera lista toma de la lista segundo elemento\n",
        "                   #  de ella y de esta el primer elemento\n",
        "print(t2[0][1][1]) # de la primera lista toma de la lista segundo elemento\n",
        "                   #  de ella y de esta el segundo elemento\n",
        "print(t2[0][0][2]) # de la primera lista toma de la lista segundo elemento\n",
        "                   #  de ella y de esta el tercero elemento\n",
        "print('\\n')"
      ],
      "metadata": {
        "colab": {
          "base_uri": "https://localhost:8080/"
        },
        "id": "aIvavuIJVLH8",
        "outputId": "a904fb06-0afa-4385-f612-da622610705e"
      },
      "execution_count": 13,
      "outputs": [
        {
          "output_type": "stream",
          "name": "stdout",
          "text": [
            "[(1, 'Oleg', 24.5), ['Maria', 'Bonita']]\n",
            "manzana\n",
            "\n",
            "\n",
            "(1, 'Oleg', 24.5)\n",
            "['Maria', 'Bonita']\n",
            "\n",
            "\n",
            "1\n",
            "Oleg\n",
            "24.5\n",
            "\n",
            "\n",
            "Maria\n",
            "Bonita\n",
            "24.5\n",
            "\n",
            "\n"
          ]
        }
      ]
    },
    {
      "cell_type": "code",
      "source": [
        "########## crear un lista de un objeto\n",
        "vocalTupla = ('a', 'e','i','o','u')\n",
        "vocalLista = list(vocalTupla )\n",
        "\n",
        "print(vocalTupla)\n",
        "print(vocalLista)"
      ],
      "metadata": {
        "colab": {
          "base_uri": "https://localhost:8080/"
        },
        "id": "ryiXrPyTWMc3",
        "outputId": "5be739c8-958c-450d-c931-8ead8253262a"
      },
      "execution_count": 14,
      "outputs": [
        {
          "output_type": "stream",
          "name": "stdout",
          "text": [
            "('a', 'e', 'i', 'o', 'u')\n",
            "['a', 'e', 'i', 'o', 'u']\n"
          ]
        }
      ]
    },
    {
      "cell_type": "code",
      "source": [
        "alfabeto = 'abcdefghijklmnñopqrstuvwxyz'\n",
        "print( 'alfabeto es un objeto string: ',type(alfabeto))\n",
        "#################################\n",
        "alfaL = []\n",
        "\n",
        "for i in alfabeto:\n",
        "    alfaL.append(i)\n",
        "\n",
        "print(alfaL)"
      ],
      "metadata": {
        "colab": {
          "base_uri": "https://localhost:8080/"
        },
        "id": "m-mRLWESWwVd",
        "outputId": "c6014307-b570-466f-b5a7-34b869efba8f"
      },
      "execution_count": 15,
      "outputs": [
        {
          "output_type": "stream",
          "name": "stdout",
          "text": [
            "alfabeto es un objeto string:  <class 'str'>\n",
            "['a', 'b', 'c', 'd', 'e', 'f', 'g', 'h', 'i', 'j', 'k', 'l', 'm', 'n', 'ñ', 'o', 'p', 'q', 'r', 's', 't', 'u', 'v', 'w', 'x', 'y', 'z']\n"
          ]
        }
      ]
    },
    {
      "cell_type": "code",
      "source": [
        "####### concatenar listas\n",
        "N = len(alfaL) # longitud de la list alfal\n",
        "print(N)\n",
        "\n",
        "numL = [] # crea lista vaica\n",
        "\n",
        "for i in range(N): # recorre del 0 hasta N range hace esto en los for\n",
        "    numL.append(i) # va añadeiendo cada numero a la lista vacia\n",
        "\n",
        "print('alfaL = ',alfaL) \n",
        "print('\\n')\n",
        "print('numL = ',numL)\n",
        "print('\\n')\n",
        "\n",
        "alfanumL = alfaL + numL # une las lista sen una sola\n",
        "alfanumLL = [alfaL, numL] # crea una lista que lamacena las dos listas anteriores\n",
        "\n",
        "print('alfanumL = ',alfanumL) \n",
        "print('\\n')\n",
        "print('alfanumLL = ',alfanumLL)"
      ],
      "metadata": {
        "colab": {
          "base_uri": "https://localhost:8080/"
        },
        "id": "cFIvJqFwXIUO",
        "outputId": "53820787-c9bb-48f0-d012-e39f3bdda9f1"
      },
      "execution_count": 16,
      "outputs": [
        {
          "output_type": "stream",
          "name": "stdout",
          "text": [
            "27\n",
            "alfaL =  ['a', 'b', 'c', 'd', 'e', 'f', 'g', 'h', 'i', 'j', 'k', 'l', 'm', 'n', 'ñ', 'o', 'p', 'q', 'r', 's', 't', 'u', 'v', 'w', 'x', 'y', 'z']\n",
            "\n",
            "\n",
            "numL =  [0, 1, 2, 3, 4, 5, 6, 7, 8, 9, 10, 11, 12, 13, 14, 15, 16, 17, 18, 19, 20, 21, 22, 23, 24, 25, 26]\n",
            "\n",
            "\n",
            "alfanumL =  ['a', 'b', 'c', 'd', 'e', 'f', 'g', 'h', 'i', 'j', 'k', 'l', 'm', 'n', 'ñ', 'o', 'p', 'q', 'r', 's', 't', 'u', 'v', 'w', 'x', 'y', 'z', 0, 1, 2, 3, 4, 5, 6, 7, 8, 9, 10, 11, 12, 13, 14, 15, 16, 17, 18, 19, 20, 21, 22, 23, 24, 25, 26]\n",
            "\n",
            "\n",
            "alfanumLL =  [['a', 'b', 'c', 'd', 'e', 'f', 'g', 'h', 'i', 'j', 'k', 'l', 'm', 'n', 'ñ', 'o', 'p', 'q', 'r', 's', 't', 'u', 'v', 'w', 'x', 'y', 'z'], [0, 1, 2, 3, 4, 5, 6, 7, 8, 9, 10, 11, 12, 13, 14, 15, 16, 17, 18, 19, 20, 21, 22, 23, 24, 25, 26]]\n"
          ]
        }
      ]
    },
    {
      "cell_type": "code",
      "source": [
        "# Acceso a los elementos de la lista alfanumLL\n",
        "\n",
        "for i in range(N):\n",
        "    print(alfanumLL[0][i],alfanumLL[1][i] )\n",
        "    # imprime el elemento de la primer lista junto al de la segunda contenida en\n",
        "    #la lista que tiene a ambas"
      ],
      "metadata": {
        "colab": {
          "base_uri": "https://localhost:8080/"
        },
        "id": "X3PbYmXfXzfZ",
        "outputId": "c245dcbc-4795-4ed9-d836-92e5ea0f9fc7"
      },
      "execution_count": 17,
      "outputs": [
        {
          "output_type": "stream",
          "name": "stdout",
          "text": [
            "a 0\n",
            "b 1\n",
            "c 2\n",
            "d 3\n",
            "e 4\n",
            "f 5\n",
            "g 6\n",
            "h 7\n",
            "i 8\n",
            "j 9\n",
            "k 10\n",
            "l 11\n",
            "m 12\n",
            "n 13\n",
            "ñ 14\n",
            "o 15\n",
            "p 16\n",
            "q 17\n",
            "r 18\n",
            "s 19\n",
            "t 20\n",
            "u 21\n",
            "v 22\n",
            "w 23\n",
            "x 24\n",
            "y 25\n",
            "z 26\n"
          ]
        }
      ]
    },
    {
      "cell_type": "code",
      "source": [
        "# eliminar elemento de una lista\n",
        "alfaL.remove('c')\n",
        "print(alfaL)"
      ],
      "metadata": {
        "colab": {
          "base_uri": "https://localhost:8080/"
        },
        "id": "-sxiA9vSYRvN",
        "outputId": "cca3e3a0-4c65-43e9-dad4-e5dfdff50cf7"
      },
      "execution_count": 18,
      "outputs": [
        {
          "output_type": "stream",
          "name": "stdout",
          "text": [
            "['a', 'b', 'd', 'e', 'f', 'g', 'h', 'i', 'j', 'k', 'l', 'm', 'n', 'ñ', 'o', 'p', 'q', 'r', 's', 't', 'u', 'v', 'w', 'x', 'y', 'z']\n"
          ]
        }
      ]
    },
    {
      "cell_type": "markdown",
      "source": [
        "Probaremos los métodos básicos para modificar una lista"
      ],
      "metadata": {
        "id": "Q0arDnrXYlr9"
      }
    },
    {
      "cell_type": "code",
      "source": [
        "lista1.append('Primero')\n",
        "print(lista1)"
      ],
      "metadata": {
        "colab": {
          "base_uri": "https://localhost:8080/"
        },
        "id": "zyWppbIgYs2g",
        "outputId": "a811b8ad-1def-433c-8e0c-b552b9dae010"
      },
      "execution_count": null,
      "outputs": [
        {
          "output_type": "stream",
          "name": "stdout",
          "text": [
            "['Primero']\n"
          ]
        }
      ]
    },
    {
      "cell_type": "code",
      "source": [
        "n=5\n",
        "for i in range(n):\n",
        "  lista1.append(i)\n",
        "print(lista1)"
      ],
      "metadata": {
        "colab": {
          "base_uri": "https://localhost:8080/"
        },
        "id": "dI9bwAadZbut",
        "outputId": "c87835c7-4938-46e9-b0ff-102046f3de93"
      },
      "execution_count": null,
      "outputs": [
        {
          "output_type": "stream",
          "name": "stdout",
          "text": [
            "['Primero', 0, 1, 2, 3, 4]\n"
          ]
        }
      ]
    },
    {
      "cell_type": "code",
      "source": [
        "## copiar una lista\n",
        "lista2 = lista1.copy()\n",
        "print(lista2)"
      ],
      "metadata": {
        "colab": {
          "base_uri": "https://localhost:8080/"
        },
        "id": "w8E20-2oZpLN",
        "outputId": "f9c8e27a-6114-4d8b-d97d-9fb410ab6b82"
      },
      "execution_count": null,
      "outputs": [
        {
          "output_type": "stream",
          "name": "stdout",
          "text": [
            "['Primero', 0, 1, 2, 3, 4]\n"
          ]
        }
      ]
    },
    {
      "cell_type": "code",
      "source": [
        "# limpiar un lista\n",
        "lista2.clear()\n",
        "print(lista2)"
      ],
      "metadata": {
        "colab": {
          "base_uri": "https://localhost:8080/"
        },
        "id": "1kD78I4BaxRY",
        "outputId": "c8042513-5bc9-422f-ef09-b766816697a3"
      },
      "execution_count": null,
      "outputs": [
        {
          "output_type": "stream",
          "name": "stdout",
          "text": [
            "[]\n"
          ]
        }
      ]
    },
    {
      "cell_type": "code",
      "source": [
        "##\n",
        "lista1.append(1) #agrega un 1 al final de la lista\n",
        "print(lista1.count(1)) #cuenta la cantidad de 1"
      ],
      "metadata": {
        "colab": {
          "base_uri": "https://localhost:8080/"
        },
        "id": "fLwX4-WEbRPl",
        "outputId": "733415ea-9f06-44d6-f336-77122411bed6"
      },
      "execution_count": null,
      "outputs": [
        {
          "output_type": "stream",
          "name": "stdout",
          "text": [
            "2\n"
          ]
        }
      ]
    },
    {
      "cell_type": "code",
      "source": [
        "lista3 = ['probando',2,'extend']\n",
        "lista1.extend(lista3)\n",
        "print(lista1)"
      ],
      "metadata": {
        "id": "w11scuGhct0k",
        "colab": {
          "base_uri": "https://localhost:8080/"
        },
        "outputId": "0b056cb8-134d-4157-e49f-e74292706123"
      },
      "execution_count": null,
      "outputs": [
        {
          "output_type": "stream",
          "name": "stdout",
          "text": [
            "['Primero', 0, 1, 2, 3, 4, 1, 'probando', 2, 'extend']\n"
          ]
        }
      ]
    },
    {
      "cell_type": "code",
      "source": [
        "# regresando indice de un elemento\n",
        "print(lista1.index(3))"
      ],
      "metadata": {
        "colab": {
          "base_uri": "https://localhost:8080/"
        },
        "id": "ZWSxOtQ1dp-P",
        "outputId": "5f71a7d0-fa47-40f1-9d6a-e5027a9b080e"
      },
      "execution_count": null,
      "outputs": [
        {
          "output_type": "stream",
          "name": "stdout",
          "text": [
            "4\n"
          ]
        }
      ]
    },
    {
      "cell_type": "code",
      "source": [
        "# agregando elemento en la poscición indicada de una lista\n",
        "lista1.insert(4,'Cuarto')\n",
        "print(lista1)\n"
      ],
      "metadata": {
        "colab": {
          "base_uri": "https://localhost:8080/"
        },
        "id": "3FKB8VfTd8ay",
        "outputId": "7bd6aa1a-4d76-4aa1-8f99-984ec3fe15e1"
      },
      "execution_count": null,
      "outputs": [
        {
          "output_type": "stream",
          "name": "stdout",
          "text": [
            "['Primero', 0, 1, 2, 'Cuarto', 3, 4, 1, 'probando', 2, 'extend']\n"
          ]
        }
      ]
    },
    {
      "cell_type": "code",
      "source": [
        "# eliminando elmento indicado y imprimiendolo\n",
        "lista1.pop(0)"
      ],
      "metadata": {
        "colab": {
          "base_uri": "https://localhost:8080/"
        },
        "id": "RZm_K-aqfH1c",
        "outputId": "76d0d300-914e-4cca-b67c-a4dc8e4f107d"
      },
      "execution_count": 20,
      "outputs": [
        {
          "output_type": "execute_result",
          "data": {
            "text/plain": [
              "5"
            ]
          },
          "metadata": {},
          "execution_count": 20
        }
      ]
    },
    {
      "cell_type": "code",
      "source": [
        "# eliminando elmento indicado y imprimiendolo\n",
        "lista1.pop(4)\n",
        "print('\\n')\n",
        "print(lista1)"
      ],
      "metadata": {
        "colab": {
          "base_uri": "https://localhost:8080/"
        },
        "outputId": "6f3fd19a-c386-4728-bd6d-922494b2c8a7",
        "id": "9sYYfw0GgVJ-"
      },
      "execution_count": null,
      "outputs": [
        {
          "output_type": "stream",
          "name": "stdout",
          "text": [
            "\n",
            "\n",
            "['Primero', 0, 1, 2, 3, 4, 1, 'probando', 2, 'extend']\n"
          ]
        }
      ]
    },
    {
      "cell_type": "code",
      "source": [
        "# elimina el item espeficdao\n",
        "lista1.remove('probando')\n",
        "print(lista1)"
      ],
      "metadata": {
        "colab": {
          "base_uri": "https://localhost:8080/"
        },
        "id": "gbu1t91df-fo",
        "outputId": "e21148cd-7518-40e0-a72b-2fc0ec90d403"
      },
      "execution_count": null,
      "outputs": [
        {
          "output_type": "stream",
          "name": "stdout",
          "text": [
            "['Primero', 0, 1, 2, 3, 4, 1, 2, 'extend']\n"
          ]
        }
      ]
    },
    {
      "cell_type": "code",
      "source": [
        "# invertir elementos de la lista\n",
        "lista1.reverse()\n",
        "print(lista1)"
      ],
      "metadata": {
        "colab": {
          "base_uri": "https://localhost:8080/"
        },
        "id": "sLqbajbNgQsW",
        "outputId": "e82ebc56-8ea4-42ba-d1e2-501c1248f2d7"
      },
      "execution_count": null,
      "outputs": [
        {
          "output_type": "stream",
          "name": "stdout",
          "text": [
            "['extend', 2, 1, 4, 3, 2, 1, 0, 'Primero']\n"
          ]
        }
      ]
    },
    {
      "cell_type": "code",
      "source": [
        "# ordenar lista\n",
        "lista4 = [4,5,6,7,8,9,6,3,5,3,3,3,3,2,5,6,7,89]\n",
        "lista4.sort()\n",
        "print(lista4)"
      ],
      "metadata": {
        "colab": {
          "base_uri": "https://localhost:8080/"
        },
        "id": "R5R1zYiKgjHp",
        "outputId": "96e66131-d141-4141-b905-3b1da24b923f"
      },
      "execution_count": null,
      "outputs": [
        {
          "output_type": "stream",
          "name": "stdout",
          "text": [
            "[2, 3, 3, 3, 3, 3, 4, 5, 5, 5, 6, 6, 6, 7, 7, 8, 9, 89]\n"
          ]
        }
      ]
    },
    {
      "cell_type": "code",
      "source": [
        "### \n",
        "frutas = [\"manzana\", \"kiwi\", \"guanabana\", \"limón\", \"níspero\", \"Pomelo\", \"Mango\"]\n",
        "\n",
        "lista2 = [] # crea lista vacía\n",
        "\n",
        "for x in frutas: #recorre la lista frutas\n",
        "    if \"a\" in x:\n",
        "        lista2.append(x) # agrega un elemento de frutas que tenga la letra a\n",
        "        \n",
        "print(lista2) # imprime la lista con las frutas con la a en ella\n",
        "#############################\n",
        "#####################\n",
        "# con compresión\n",
        "lista2 = [x for x in frutas if \"a\" in x]\n",
        "print(lista2)"
      ],
      "metadata": {
        "colab": {
          "base_uri": "https://localhost:8080/"
        },
        "id": "WFTlkXmsiUcn",
        "outputId": "4bc817b3-2cae-4c0c-a137-d6fdab5f38ca"
      },
      "execution_count": 22,
      "outputs": [
        {
          "output_type": "stream",
          "name": "stdout",
          "text": [
            "['manzana', 'guanabana', 'Mango']\n",
            "['manzana', 'guanabana', 'Mango']\n"
          ]
        }
      ]
    },
    {
      "cell_type": "code",
      "source": [
        "#######\n",
        "lista2 = [x for x in frutas if \"a\" not in x]\n",
        "print(lista2)\n",
        "########################\n",
        "lista2 = [x for x in frutas if len(x)<6]\n",
        "print(lista2)\n",
        "########################\n",
        "lista2 = [x for x in range(10) if x % 2 ==0]\n",
        "print(lista2)\n",
        "##########################\n",
        "lista2 = [x for x in t1  if type(x)==int or type(x)==float]\n",
        "print(lista2)"
      ],
      "metadata": {
        "colab": {
          "base_uri": "https://localhost:8080/"
        },
        "id": "QpALzgRiisf6",
        "outputId": "25b3524e-8600-4e9c-cf52-2ffad5986b4f"
      },
      "execution_count": 23,
      "outputs": [
        {
          "output_type": "stream",
          "name": "stdout",
          "text": [
            "['kiwi', 'limón', 'níspero', 'Pomelo']\n",
            "['kiwi', 'limón', 'Mango']\n",
            "[0, 2, 4, 6, 8]\n",
            "[1, 24.5]\n"
          ]
        }
      ]
    },
    {
      "cell_type": "markdown",
      "source": [
        "# ***DICCIONARIO***"
      ],
      "metadata": {
        "id": "xWmL698SlBJ7"
      }
    },
    {
      "cell_type": "code",
      "source": [
        "Rios = {\n",
        "...     'Leticia' : 'Amazonas',\n",
        "...     'Montería': 'Sinu',\n",
        "...     'Bogotá'  : 'Bogotá',\n",
        "...     'San Gil': 'Fonce',\n",
        "...     'Honda'  : 'Magdalena'\n",
        "... }\n",
        "\n",
        "print(Rios)\n",
        "##########################\n",
        "print(Rios['Montería'])"
      ],
      "metadata": {
        "colab": {
          "base_uri": "https://localhost:8080/"
        },
        "id": "4mO5RQMglAUS",
        "outputId": "6ae3b0f2-cb42-4112-87d6-7e18bc53cf3c"
      },
      "execution_count": 24,
      "outputs": [
        {
          "output_type": "stream",
          "name": "stdout",
          "text": [
            "{'Leticia': 'Amazonas', 'Montería': 'Sinu', 'Bogotá': 'Bogotá', 'San Gil': 'Fonce', 'Honda': 'Magdalena'}\n",
            "Sinu\n"
          ]
        }
      ]
    },
    {
      "cell_type": "code",
      "source": [
        "my_dic=dict([\n",
        "             ('Colores', ['Negro','Rojo','Azul']),\n",
        "             ('Animales', 'Gato'),\n",
        "             ('Calzado', ['Botas','Botines','Deportivos','Sandalias'])\n",
        "            ])\n",
        "\n",
        "print(my_dic)\n",
        "###################\n",
        "print(my_dic['Colores'])\n",
        "print(my_dic['Colores'][1])\n",
        "print('Ví pasar un',my_dic['Animales'],'con',my_dic['Calzado'][0],'de color',my_dic['Colores'][0])"
      ],
      "metadata": {
        "colab": {
          "base_uri": "https://localhost:8080/"
        },
        "id": "ukISKUdZl13R",
        "outputId": "b384b43f-26b1-4d36-c342-60d4455a3dd4"
      },
      "execution_count": 25,
      "outputs": [
        {
          "output_type": "stream",
          "name": "stdout",
          "text": [
            "{'Colores': ['Negro', 'Rojo', 'Azul'], 'Animales': 'Gato', 'Calzado': ['Botas', 'Botines', 'Deportivos', 'Sandalias']}\n",
            "['Negro', 'Rojo', 'Azul']\n",
            "Rojo\n",
            "Ví pasar un Gato con Botas de color Negro\n"
          ]
        }
      ]
    },
    {
      "cell_type": "code",
      "source": [
        "### agregar elementos\n",
        "my_dic['Valor']=['20','50','12']\n",
        "print(my_dic)"
      ],
      "metadata": {
        "colab": {
          "base_uri": "https://localhost:8080/"
        },
        "id": "GHa5kTR5mjtp",
        "outputId": "1e8698b7-9f8b-421f-bd22-d34d6689c9a0"
      },
      "execution_count": 26,
      "outputs": [
        {
          "output_type": "stream",
          "name": "stdout",
          "text": [
            "{'Colores': ['Negro', 'Rojo', 'Azul'], 'Animales': 'Gato', 'Calzado': ['Botas', 'Botines', 'Deportivos', 'Sandalias'], 'Valor': ['20', '50', '12']}\n"
          ]
        }
      ]
    },
    {
      "cell_type": "code",
      "source": [
        "## modificar avalores\n",
        "my_dic['Colores']='Negro'\n",
        "print(my_dic)"
      ],
      "metadata": {
        "colab": {
          "base_uri": "https://localhost:8080/"
        },
        "id": "Prn8Ek-1mq06",
        "outputId": "f0828bc0-559a-44a0-b2f7-9d61f3b24968"
      },
      "execution_count": 27,
      "outputs": [
        {
          "output_type": "stream",
          "name": "stdout",
          "text": [
            "{'Colores': 'Negro', 'Animales': 'Gato', 'Calzado': ['Botas', 'Botines', 'Deportivos', 'Sandalias'], 'Valor': ['20', '50', '12']}\n"
          ]
        }
      ]
    },
    {
      "cell_type": "code",
      "source": [
        "#Generar diccionario vacío\n",
        "persona = {}\n",
        "print(type(persona))\n",
        "\n",
        "# Agregar llaves y sus definiciones (items)\n",
        "persona['Nombre'] = 'Gengis'\n",
        "persona['Apellido'] = 'Khan'\n",
        "persona['Edad'] = 23\n",
        "persona['Esposa'] = ['Börte Qatun','Yesugen','Qulan Qatun','Möge Qatun','Juerbiesu','Ibaqa Beki']\n",
        "persona['Hijos'] = 'En estudio'\n",
        "persona['Mascotas'] = {'Perro': 'Wahadi', 'Gato': 'Gotze','Leon':'Pichirilo'}\n",
        "# mascotas es un diccionario\n",
        "\n",
        "print(persona)\n",
        "print('Hijos de',persona['Nombre'],':',persona['Hijos'])\n",
        "\n",
        "#########################\n",
        "print(persona['Mascotas'])\n",
        "#########################\n",
        "print(persona['Mascotas']['Perro'])"
      ],
      "metadata": {
        "colab": {
          "base_uri": "https://localhost:8080/"
        },
        "id": "WNqlwuozm-Z6",
        "outputId": "805928aa-2cf1-4d0d-ebf5-40a42b410f3f"
      },
      "execution_count": 30,
      "outputs": [
        {
          "output_type": "stream",
          "name": "stdout",
          "text": [
            "<class 'dict'>\n",
            "{'Nombre': 'Gengis', 'Apellido': 'Khan', 'Edad': 23, 'Esposa': ['Börte Qatun', 'Yesugen', 'Qulan Qatun', 'Möge Qatun', 'Juerbiesu', 'Ibaqa Beki'], 'Hijos': 'En estudio', 'Mascotas': {'Perro': 'Wahadi', 'Gato': 'Gotze', 'Leon': 'Pichirilo'}}\n",
            "Hijos de Gengis : En estudio\n",
            "{'Perro': 'Wahadi', 'Gato': 'Gotze', 'Leon': 'Pichirilo'}\n",
            "Wahadi\n"
          ]
        }
      ]
    },
    {
      "cell_type": "code",
      "source": [
        "# operadores\n",
        "'Animales' in my_dic\n",
        "'Colores' not in my_dic"
      ],
      "metadata": {
        "id": "WwUK_aDDwpPu"
      },
      "execution_count": null,
      "outputs": []
    },
    {
      "cell_type": "code",
      "source": [
        "#len en un diccionario cuenta la cantidad de llaves\n",
        "print(my_dic)\n",
        "\n",
        "print(\"\\nEl diccionario tiene\",len(my_dic),'llaves')"
      ],
      "metadata": {
        "colab": {
          "base_uri": "https://localhost:8080/"
        },
        "id": "ZgYhUPbUwzGF",
        "outputId": "dccf61b3-fa75-4bee-d936-f9870604969c"
      },
      "execution_count": 31,
      "outputs": [
        {
          "output_type": "stream",
          "name": "stdout",
          "text": [
            "{'Colores': 'Negro', 'Animales': 'Gato', 'Calzado': ['Botas', 'Botines', 'Deportivos', 'Sandalias'], 'Valor': ['20', '50', '12']}\n",
            "\n",
            "El diccionario tiene 4 llaves\n"
          ]
        }
      ]
    },
    {
      "cell_type": "markdown",
      "source": [
        "### **metodos**"
      ],
      "metadata": {
        "id": "FkLwnddHxWBP"
      }
    },
    {
      "cell_type": "code",
      "source": [
        "# d.clear limpia un diccionario\n",
        "print(d)\n",
        "d.clear()\n",
        "print(d)"
      ],
      "metadata": {
        "colab": {
          "base_uri": "https://localhost:8080/"
        },
        "id": "inUqrsZaxZpW",
        "outputId": "bc1fefc5-51f0-468f-822b-3c340e11c862"
      },
      "execution_count": 32,
      "outputs": [
        {
          "output_type": "stream",
          "name": "stdout",
          "text": [
            "{135: 'Coco', 1: 'Urban_Sound8k', 2: 'Mnist', 3: 'CheXpert'}\n",
            "{}\n"
          ]
        }
      ]
    },
    {
      "cell_type": "code",
      "source": [
        "#d.get\n",
        "print(my_dic.get('Colores'))\n",
        "print(persona.get('Esposa'))"
      ],
      "metadata": {
        "colab": {
          "base_uri": "https://localhost:8080/"
        },
        "id": "2KNxOqkwxemb",
        "outputId": "71d0a196-0d21-4d86-d267-2e8deba60470"
      },
      "execution_count": 33,
      "outputs": [
        {
          "output_type": "stream",
          "name": "stdout",
          "text": [
            "Negro\n",
            "['Börte Qatun', 'Yesugen', 'Qulan Qatun', 'Möge Qatun', 'Juerbiesu', 'Ibaqa Beki']\n"
          ]
        }
      ]
    },
    {
      "cell_type": "code",
      "source": [
        "# ites de un diccionario y sus usos\n",
        "print(my_dic.items())\n",
        "print(list(my_dic.items()))\n",
        "list(my_dic.items())[0][1]"
      ],
      "metadata": {
        "colab": {
          "base_uri": "https://localhost:8080/",
          "height": 72
        },
        "id": "WXHws12vyKPD",
        "outputId": "f6ae020f-5284-4b9a-8d69-074c1f910561"
      },
      "execution_count": 34,
      "outputs": [
        {
          "output_type": "stream",
          "name": "stdout",
          "text": [
            "dict_items([('Colores', 'Negro'), ('Animales', 'Gato'), ('Calzado', ['Botas', 'Botines', 'Deportivos', 'Sandalias']), ('Valor', ['20', '50', '12'])])\n",
            "[('Colores', 'Negro'), ('Animales', 'Gato'), ('Calzado', ['Botas', 'Botines', 'Deportivos', 'Sandalias']), ('Valor', ['20', '50', '12'])]\n"
          ]
        },
        {
          "output_type": "execute_result",
          "data": {
            "text/plain": [
              "'Negro'"
            ],
            "application/vnd.google.colaboratory.intrinsic+json": {
              "type": "string"
            }
          },
          "metadata": {},
          "execution_count": 34
        }
      ]
    }
  ]
}