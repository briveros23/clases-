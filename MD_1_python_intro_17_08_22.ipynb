{
  "nbformat": 4,
  "nbformat_minor": 0,
  "metadata": {
    "colab": {
      "name": "MD_1_python_intro.ipynb",
      "provenance": [],
      "collapsed_sections": []
    },
    "kernelspec": {
      "name": "python3",
      "display_name": "Python 3"
    },
    "language_info": {
      "name": "python"
    }
  },
  "cells": [
    {
      "cell_type": "code",
      "execution_count": null,
      "metadata": {
        "colab": {
          "base_uri": "https://localhost:8080/"
        },
        "id": "j2o0rVQfan_a",
        "outputId": "d686c7c8-a07f-47e9-d121-da0a24abe2df"
      },
      "outputs": [
        {
          "output_type": "stream",
          "name": "stdout",
          "text": [
            "1 2 3 4 5 6 7 8 9 10 11 12 13 14 15 16 17 18 19 20 21 22 23 24 25 26 27 28 29 30 31 32 33 34 35 36 37 38 39 40 41 42 43 44 45 46 47 48 49 50 51 52 53 54 55 56 57 58 59 60 61 62 63 64 65 66 67 68 69 70 71 72 73 74 75 76 77 78 79 80 81 82 83 84 85 86 87 88 89 90 91 92 93 94 95 96 97 98 99 100 "
          ]
        }
      ],
      "source": [
        "# inicio\n",
        "for n in range(1, 101):\n",
        "    print(n,\n",
        "         end=' ' # permite que se impriman en forma horizontal \n",
        "          )\n",
        "# fin"
      ]
    },
    {
      "cell_type": "code",
      "source": [
        "n=5\n",
        "# % permite conocer el residuo de dividir n entre m\n",
        "# al hacer n%2 tienes respuesta 1 o 0\n",
        "# impares 1 pares 0\n",
        "if(n%2): # toma la respuesta como booleean imprimiendo los impares  \n",
        "  print(n)\n"
      ],
      "metadata": {
        "colab": {
          "base_uri": "https://localhost:8080/"
        },
        "id": "U47bizvzcDc6",
        "outputId": "5d257efa-b0f0-4bce-bc1f-e63c421674ba"
      },
      "execution_count": null,
      "outputs": [
        {
          "output_type": "stream",
          "name": "stdout",
          "text": [
            "5\n"
          ]
        }
      ]
    },
    {
      "cell_type": "code",
      "source": [
        "# imprimir números impares entre 1-100\n",
        "for n in range(100):\n",
        "    if(n%2):\n",
        "        print(n, end=' ')"
      ],
      "metadata": {
        "colab": {
          "base_uri": "https://localhost:8080/"
        },
        "id": "ZyV8Lfqkbqqw",
        "outputId": "b73e95a3-dff8-4822-e44c-a90fd0954350"
      },
      "execution_count": null,
      "outputs": [
        {
          "output_type": "stream",
          "name": "stdout",
          "text": [
            "1 3 5 7 9 11 13 15 17 19 21 23 25 27 29 31 33 35 37 39 41 43 45 47 49 51 53 55 57 59 61 63 65 67 69 71 73 75 77 79 81 83 85 87 89 91 93 95 97 99 "
          ]
        }
      ]
    },
    {
      "cell_type": "code",
      "source": [
        "#Ejercicio 1\n",
        "print(\"Sólo sé ... \\n ... que nada sé.\")"
      ],
      "metadata": {
        "colab": {
          "base_uri": "https://localhost:8080/"
        },
        "id": "YGOAhQ5cOzt8",
        "outputId": "88d92932-1cb6-4dd5-920b-5484948c9880"
      },
      "execution_count": null,
      "outputs": [
        {
          "output_type": "stream",
          "name": "stdout",
          "text": [
            "Sólo sé ... \n",
            " ... que nada sé.\n"
          ]
        }
      ]
    },
    {
      "cell_type": "code",
      "source": [
        "#jercicio 2\n",
        "my_age = 25\n",
        "print(\"tengo\",my_age,\"años\")"
      ],
      "metadata": {
        "colab": {
          "base_uri": "https://localhost:8080/"
        },
        "id": "rKTxQYPDQIa3",
        "outputId": "a3ffb04b-d14b-4b3d-d6a1-cef4a80cf3be"
      },
      "execution_count": null,
      "outputs": [
        {
          "output_type": "stream",
          "name": "stdout",
          "text": [
            "tengo 25 años\n"
          ]
        }
      ]
    },
    {
      "cell_type": "markdown",
      "source": [
        "# **Tipos de datos**\n",
        "**Entero**"
      ],
      "metadata": {
        "id": "hhG4QQGwUVdU"
      }
    },
    {
      "cell_type": "code",
      "source": [
        "### cast para enteros\n",
        "total = '120'\n",
        "print(total)\n",
        "print(type(total))\n",
        "## cambio con int\n",
        "total = int(total)\n",
        "print(total)\n",
        "print(type(total))"
      ],
      "metadata": {
        "colab": {
          "base_uri": "https://localhost:8080/"
        },
        "id": "Kt0SsBjDR2Mn",
        "outputId": "93a51a9c-775f-4836-fcb5-34aad9e3da58"
      },
      "execution_count": null,
      "outputs": [
        {
          "output_type": "stream",
          "name": "stdout",
          "text": [
            "120\n",
            "<class 'str'>\n",
            "120\n",
            "<class 'int'>\n"
          ]
        }
      ]
    },
    {
      "cell_type": "code",
      "source": [
        "edad = int(input('Por favor entre su edad:'))\n",
        "print(edad)\n",
        "print(type(edad))"
      ],
      "metadata": {
        "colab": {
          "base_uri": "https://localhost:8080/"
        },
        "id": "OB9xzY5FSh9c",
        "outputId": "401edbef-d3db-45b7-ea33-c77f72242a52"
      },
      "execution_count": null,
      "outputs": [
        {
          "output_type": "stream",
          "name": "stdout",
          "text": [
            "Por favor entre su edad:25\n",
            "25\n",
            "<class 'int'>\n"
          ]
        }
      ]
    },
    {
      "cell_type": "markdown",
      "source": [
        "**Flotante**"
      ],
      "metadata": {
        "id": "amBovgGeUsjz"
      }
    },
    {
      "cell_type": "code",
      "source": [
        "x=float(input('ingrese un numero:'))\n",
        "print(x)\n",
        "print(type(x))\n",
        "y=x+5\n",
        "print(y)"
      ],
      "metadata": {
        "colab": {
          "base_uri": "https://localhost:8080/"
        },
        "id": "RFv2QHn7Uuj4",
        "outputId": "c1ba9f51-ed3c-4908-a30e-59741bfe78c0"
      },
      "execution_count": null,
      "outputs": [
        {
          "output_type": "stream",
          "name": "stdout",
          "text": [
            "ingrese un numero:4\n",
            "4.0\n",
            "<class 'float'>\n",
            "9.0\n"
          ]
        }
      ]
    },
    {
      "cell_type": "markdown",
      "source": [
        "**Complejos**\n"
      ],
      "metadata": {
        "id": "XhSwVw1x9xrH"
      }
    },
    {
      "cell_type": "code",
      "source": [
        "z = 3.4 + 4j\n",
        "print(z)\n",
        "print(type(z))"
      ],
      "metadata": {
        "colab": {
          "base_uri": "https://localhost:8080/"
        },
        "id": "E3l9azlr9ztZ",
        "outputId": "da001e64-d6c8-4d9f-ff82-23ef9fb52b45"
      },
      "execution_count": null,
      "outputs": [
        {
          "output_type": "stream",
          "name": "stdout",
          "text": [
            "(3.4+4j)\n",
            "<class 'complex'>\n"
          ]
        }
      ]
    },
    {
      "cell_type": "markdown",
      "source": [
        "**NONE**"
      ],
      "metadata": {
        "id": "KA5cakM6-b2v"
      }
    },
    {
      "cell_type": "code",
      "source": [
        "b = None\n",
        "print(b)\n",
        "print(type(b))\n",
        "\n",
        "z = 5\n",
        "\n",
        "b is None"
      ],
      "metadata": {
        "colab": {
          "base_uri": "https://localhost:8080/"
        },
        "id": "1MtLM_lu-fQX",
        "outputId": "451b548d-6cac-41ff-998d-58683304dc6b"
      },
      "execution_count": null,
      "outputs": [
        {
          "output_type": "stream",
          "name": "stdout",
          "text": [
            "None\n",
            "<class 'NoneType'>\n"
          ]
        },
        {
          "output_type": "execute_result",
          "data": {
            "text/plain": [
              "True"
            ]
          },
          "metadata": {},
          "execution_count": 2
        }
      ]
    },
    {
      "cell_type": "code",
      "source": [
        "# Pruebe: z is None\n",
        "z is None"
      ],
      "metadata": {
        "colab": {
          "base_uri": "https://localhost:8080/"
        },
        "id": "6Kb4bu26-jg_",
        "outputId": "da2995bf-0c0c-4fa6-b613-af3f87c92f81"
      },
      "execution_count": null,
      "outputs": [
        {
          "output_type": "execute_result",
          "data": {
            "text/plain": [
              "False"
            ]
          },
          "metadata": {},
          "execution_count": 3
        }
      ]
    },
    {
      "cell_type": "markdown",
      "source": [
        "**Strings**"
      ],
      "metadata": {
        "id": "L76lj1iX-3A_"
      }
    },
    {
      "cell_type": "code",
      "source": [
        "c='Texto simple escrito entre comillas simples que necesita \"adentrico\" comillas dobles'\n",
        "print(c)\n",
        "c"
      ],
      "metadata": {
        "colab": {
          "base_uri": "https://localhost:8080/",
          "height": 53
        },
        "id": "O1ulCjL2-7NK",
        "outputId": "d45a1e5b-e4ca-4759-bda4-dc004d449ff0"
      },
      "execution_count": null,
      "outputs": [
        {
          "output_type": "stream",
          "name": "stdout",
          "text": [
            "Texto simple escrito entre comillas simples que necesita \"adentrico\" comillas dobles\n"
          ]
        },
        {
          "output_type": "execute_result",
          "data": {
            "text/plain": [
              "'Texto simple escrito entre comillas simples que necesita \"adentrico\" comillas dobles'"
            ],
            "application/vnd.google.colaboratory.intrinsic+json": {
              "type": "string"
            }
          },
          "metadata": {},
          "execution_count": 4
        }
      ]
    },
    {
      "cell_type": "code",
      "source": [
        "# no  se puede poner rutas tan facilmente\n",
        "print('La ruta del archivo es C:\\nombres\\archivo.ipynb')\n"
      ],
      "metadata": {
        "colab": {
          "base_uri": "https://localhost:8080/"
        },
        "id": "N9MbkFGR_lGe",
        "outputId": "c3e67ece-28cd-4ce6-fdc3-0147a49c68f5"
      },
      "execution_count": null,
      "outputs": [
        {
          "output_type": "stream",
          "name": "stdout",
          "text": [
            "La ruta del archivo es C:\n",
            "ombres\u0007rchivo.ipynb\n"
          ]
        }
      ]
    },
    {
      "cell_type": "code",
      "source": [
        "# para solucionar lo anterior tenemos dos opciones\n",
        "print('La ruta del archivo es C:\\\\nombres\\\\archivo.ipynb')\n",
        "print(r'La ruta del archivo es C:\\nombres\\archivo.ipynb')"
      ],
      "metadata": {
        "colab": {
          "base_uri": "https://localhost:8080/"
        },
        "id": "MC3_1vTT_rUH",
        "outputId": "83bc9d6e-bf43-427d-9fd5-35be520d737c"
      },
      "execution_count": null,
      "outputs": [
        {
          "output_type": "stream",
          "name": "stdout",
          "text": [
            "La ruta del archivo es C:\\nombres\\archivo.ipynb\n",
            "La ruta del archivo es C:\\nombres\\archivo.ipynb , 5\n"
          ]
        }
      ]
    },
    {
      "cell_type": "markdown",
      "source": [
        "se puede recorrer los string por caracteres enumerados desde el 0 y además se puede recorrer al revés con números negativos"
      ],
      "metadata": {
        "id": "YicrqQMlAMb_"
      }
    },
    {
      "cell_type": "code",
      "source": [
        "texto=\"cuidado_con_el_orden\"\n",
        "texto\n",
        "texto[3:-1] # python ciempre toma [,) a los intervalos así"
      ],
      "metadata": {
        "colab": {
          "base_uri": "https://localhost:8080/",
          "height": 36
        },
        "id": "nRrIA-zJAawi",
        "outputId": "dfc37ea8-d768-4167-a0f1-b5273da70cb9"
      },
      "execution_count": null,
      "outputs": [
        {
          "output_type": "execute_result",
          "data": {
            "text/plain": [
              "'dado_con_el_orde'"
            ],
            "application/vnd.google.colaboratory.intrinsic+json": {
              "type": "string"
            }
          },
          "metadata": {},
          "execution_count": 7
        }
      ]
    },
    {
      "cell_type": "markdown",
      "source": [
        "**Asignación múltiple**\n",
        "\n",
        "permite asignar valores a variables en un sola línea"
      ],
      "metadata": {
        "id": "2OlX1mMTBDSX"
      }
    },
    {
      "cell_type": "code",
      "source": [
        "# Asignación múltiple\n",
        "\n",
        "w, x, y, z = \"Apple\", \"Watermelon\", \"Grape\", 28;print(w);print(x);\n",
        "print(y);\n",
        "print(z);\n",
        "print(w,x,y,z,sep=\", \");\n",
        "\n",
        "# Asignación múltiple del mismo valor\n",
        "\n",
        "x1 = x2 = x3 = 0.5;\n",
        "print('x1 =',x1);\n",
        "print('x2 =',x2);\n",
        "print('x3 =',x3);"
      ],
      "metadata": {
        "colab": {
          "base_uri": "https://localhost:8080/"
        },
        "id": "LQ07OVyWBHA4",
        "outputId": "36d360bb-c5c2-477a-d3ec-510b5d99ef76"
      },
      "execution_count": null,
      "outputs": [
        {
          "output_type": "stream",
          "name": "stdout",
          "text": [
            "Apple\n",
            "Watermelon\n",
            "Grape\n",
            "28\n",
            "Apple, Watermelon, Grape, 28\n",
            "x1 = 0.5\n",
            "x2 = 0.5\n",
            "x3 = 0.5\n"
          ]
        }
      ]
    },
    {
      "cell_type": "markdown",
      "source": [
        "Ejercicio"
      ],
      "metadata": {
        "id": "b_0em863CmbO"
      }
    },
    {
      "cell_type": "code",
      "source": [
        "x, y = 3, 10 # asigna el valor 3 a x y el valor 10 a y\n",
        "\n",
        "y, x = x, y # asigna a y el valor de x y a x el valor de y\n",
        "\n",
        "print(y,x,sep=\",\") # imprime a y=3 y a x=10"
      ],
      "metadata": {
        "colab": {
          "base_uri": "https://localhost:8080/"
        },
        "id": "HeVNv5wGCnrn",
        "outputId": "f2b2ef24-ce4f-4327-9fb5-361e4ca2231b"
      },
      "execution_count": null,
      "outputs": [
        {
          "output_type": "stream",
          "name": "stdout",
          "text": [
            "3,10\n"
          ]
        }
      ]
    },
    {
      "cell_type": "markdown",
      "source": [
        "# ***Eliminación de variables***"
      ],
      "metadata": {
        "id": "SNaQWJudDRgR"
      }
    },
    {
      "cell_type": "code",
      "source": [
        "w = 1  # crea la variable w y le asigna el valor 1\n",
        "print(w) # imprime w\n"
      ],
      "metadata": {
        "colab": {
          "base_uri": "https://localhost:8080/"
        },
        "id": "zSUszuvUDQjI",
        "outputId": "980e53fb-f878-46d4-8e97-9328ece31522"
      },
      "execution_count": null,
      "outputs": [
        {
          "output_type": "stream",
          "name": "stdout",
          "text": [
            "1\n"
          ]
        }
      ]
    },
    {
      "cell_type": "code",
      "source": [
        "del w # elimina W\n",
        "#el error se da al pedir el print\n",
        "#print(w) # no puede ejecutarse w ya no existe\n"
      ],
      "metadata": {
        "id": "mbY32ySsDkIH"
      },
      "execution_count": null,
      "outputs": []
    },
    {
      "cell_type": "markdown",
      "source": [
        "# ***Operaciones***"
      ],
      "metadata": {
        "id": "8fAZQqPMIIDA"
      }
    },
    {
      "cell_type": "code",
      "source": [
        "x = \"Python es \";\n",
        "n1 = 1;\n",
        "# Escribir texto y números\n",
        "print(x+\"el número\",n1);"
      ],
      "metadata": {
        "colab": {
          "base_uri": "https://localhost:8080/"
        },
        "id": "0Xv941HvIMwa",
        "outputId": "e1c9fda6-23ad-406e-abe8-a1419316ee81"
      },
      "execution_count": 28,
      "outputs": [
        {
          "output_type": "stream",
          "name": "stdout",
          "text": [
            "Python es el número 1\n"
          ]
        }
      ]
    },
    {
      "cell_type": "markdown",
      "source": [
        "# **Ejercicio**"
      ],
      "metadata": {
        "id": "k2una_y6K4Ev"
      }
    },
    {
      "cell_type": "code",
      "source": [
        "#5*3-5**2-(6)/(9**(0.5))\n",
        "#5*3-5**2-(6)/3\n",
        "#5*3-25-6/3\n",
        "#15-25-2\n",
        "#-10-2\n",
        "\n",
        "5*3-5**2-(6)/(9**(1/2))"
      ],
      "metadata": {
        "colab": {
          "base_uri": "https://localhost:8080/"
        },
        "id": "uNLIpf7rK7aH",
        "outputId": "eaf79fdb-b88d-4134-f438-6af50cfa4027"
      },
      "execution_count": 29,
      "outputs": [
        {
          "output_type": "execute_result",
          "data": {
            "text/plain": [
              "-12.0"
            ]
          },
          "metadata": {},
          "execution_count": 29
        }
      ]
    },
    {
      "cell_type": "code",
      "source": [
        "#5*(3-5)**2-6/(9**1/2)\n",
        "#5*-2**2-6/(9/2)\n",
        "#5*4-4/3\n",
        "#20-4/3\n",
        "#18.666667\n",
        "5*(3-5)**2-6/(9**1/2)"
      ],
      "metadata": {
        "colab": {
          "base_uri": "https://localhost:8080/"
        },
        "id": "mvfV6eeJLXWg",
        "outputId": "02ecac78-2ffc-4be1-869f-eab33ee1f454"
      },
      "execution_count": 30,
      "outputs": [
        {
          "output_type": "execute_result",
          "data": {
            "text/plain": [
              "18.666666666666668"
            ]
          },
          "metadata": {},
          "execution_count": 30
        }
      ]
    },
    {
      "cell_type": "code",
      "source": [
        "#5*(3-5)**2-6/9**1/2\n",
        "#5*-2**2-(6/9)/2\n",
        "#5*4-(6/9)/2\n",
        "#20-(2/3)/2\n",
        "#20-1/3\n",
        "#19.666666\n",
        "5*(3-5)**2-6/9**1/2"
      ],
      "metadata": {
        "colab": {
          "base_uri": "https://localhost:8080/"
        },
        "id": "958fWpY8L-6Z",
        "outputId": "7b1aac1c-aa31-415a-d198-6b105529c727"
      },
      "execution_count": 35,
      "outputs": [
        {
          "output_type": "execute_result",
          "data": {
            "text/plain": [
              "19.666666666666668"
            ]
          },
          "metadata": {},
          "execution_count": 35
        }
      ]
    },
    {
      "cell_type": "code",
      "source": [
        "#5*3-5**2-6/9**1/2\n",
        "#5*3-25-(6/9)/2\n",
        "#15-25-1/3\n",
        "#-10-1/3\n",
        "#-10.333333\n",
        "5*3-5**2-6/9**1/2"
      ],
      "metadata": {
        "colab": {
          "base_uri": "https://localhost:8080/"
        },
        "id": "3mZrp2q5NwnZ",
        "outputId": "b72531e1-df01-4321-8553-38788faef8d3"
      },
      "execution_count": 36,
      "outputs": [
        {
          "output_type": "execute_result",
          "data": {
            "text/plain": [
              "-10.333333333333334"
            ]
          },
          "metadata": {},
          "execution_count": 36
        }
      ]
    },
    {
      "cell_type": "markdown",
      "source": [
        "**Ejercicio**"
      ],
      "metadata": {
        "id": "q7wPMv0KO3cJ"
      }
    },
    {
      "cell_type": "code",
      "source": [
        "edad = 15 # crea edad y asigna el valor 15\n",
        "status = None #crea status y le asigna vacío\n",
        "\n",
        "if (edad >12) and (edad<20):# condicional para la edad entre (12,20)\n",
        "    status = 'adolecente'\n",
        "else: # en caso de no cumplir la condición\n",
        "    status = 'no adolecente'\n",
        "\n",
        "print('status =', status) # imprime el texto con el valor dado por el \n",
        "                          # condicional a status"
      ],
      "metadata": {
        "colab": {
          "base_uri": "https://localhost:8080/"
        },
        "id": "15DjAG1QO6nL",
        "outputId": "acbcfacf-c576-4711-b69b-607baeaf1c61"
      },
      "execution_count": 37,
      "outputs": [
        {
          "output_type": "stream",
          "name": "stdout",
          "text": [
            "status = adolecente\n"
          ]
        }
      ]
    },
    {
      "cell_type": "code",
      "source": [
        "#3+(-4)**(1/2)\n",
        "#3+2j\n",
        "3+(-4)**(1/2)"
      ],
      "metadata": {
        "colab": {
          "base_uri": "https://localhost:8080/"
        },
        "id": "2uessd1ES-nY",
        "outputId": "7a0a9e3d-f595-4214-f5ac-54d825a26eb3"
      },
      "execution_count": 38,
      "outputs": [
        {
          "output_type": "execute_result",
          "data": {
            "text/plain": [
              "(3+2j)"
            ]
          },
          "metadata": {},
          "execution_count": 38
        }
      ]
    },
    {
      "cell_type": "code",
      "source": [
        "# importando el número pi\n",
        "\n",
        "from math import pi\n",
        "\n",
        "\n",
        "# visualizar pi\n",
        "print(pi)\n",
        "\n",
        "# Your code here\n",
        "print(round(pi,5))"
      ],
      "metadata": {
        "id": "68dc47-7T92k",
        "outputId": "9983bb17-7595-40d7-f1ce-7655e4b8f8e9",
        "colab": {
          "base_uri": "https://localhost:8080/"
        }
      },
      "execution_count": 39,
      "outputs": [
        {
          "output_type": "stream",
          "name": "stdout",
          "text": [
            "3.141592653589793\n",
            "3.14159\n"
          ]
        }
      ]
    }
  ]
}