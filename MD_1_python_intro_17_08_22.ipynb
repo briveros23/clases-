{
  "nbformat": 4,
  "nbformat_minor": 0,
  "metadata": {
    "colab": {
      "name": "MD_1_python_intro.ipynb",
      "provenance": [],
      "collapsed_sections": []
    },
    "kernelspec": {
      "name": "python3",
      "display_name": "Python 3"
    },
    "language_info": {
      "name": "python"
    }
  },
  "cells": [
    {
      "cell_type": "code",
      "execution_count": null,
      "metadata": {
        "colab": {
          "base_uri": "https://localhost:8080/"
        },
        "id": "j2o0rVQfan_a",
        "outputId": "d686c7c8-a07f-47e9-d121-da0a24abe2df"
      },
      "outputs": [
        {
          "output_type": "stream",
          "name": "stdout",
          "text": [
            "1 2 3 4 5 6 7 8 9 10 11 12 13 14 15 16 17 18 19 20 21 22 23 24 25 26 27 28 29 30 31 32 33 34 35 36 37 38 39 40 41 42 43 44 45 46 47 48 49 50 51 52 53 54 55 56 57 58 59 60 61 62 63 64 65 66 67 68 69 70 71 72 73 74 75 76 77 78 79 80 81 82 83 84 85 86 87 88 89 90 91 92 93 94 95 96 97 98 99 100 "
          ]
        }
      ],
      "source": [
        "# inicio\n",
        "for n in range(1, 101):\n",
        "    print(n,\n",
        "         end=' ' # permite que se impriman en forma horizontal \n",
        "          )\n",
        "# fin"
      ]
    },
    {
      "cell_type": "code",
      "source": [
        "n=5\n",
        "# % permite conocer el residuo de dividir n entre m\n",
        "# al hacer n%2 tienes respuesta 1 o 0\n",
        "# impares 1 pares 0\n",
        "if(n%2): # toma la respuesta como booleean imprimiendo los impares  \n",
        "  print(n)\n"
      ],
      "metadata": {
        "colab": {
          "base_uri": "https://localhost:8080/"
        },
        "id": "U47bizvzcDc6",
        "outputId": "5d257efa-b0f0-4bce-bc1f-e63c421674ba"
      },
      "execution_count": null,
      "outputs": [
        {
          "output_type": "stream",
          "name": "stdout",
          "text": [
            "5\n"
          ]
        }
      ]
    },
    {
      "cell_type": "code",
      "source": [
        "# imprimir números impares entre 1-100\n",
        "for n in range(100):\n",
        "    if(n%2):\n",
        "        print(n, end=' ')"
      ],
      "metadata": {
        "colab": {
          "base_uri": "https://localhost:8080/"
        },
        "id": "ZyV8Lfqkbqqw",
        "outputId": "b73e95a3-dff8-4822-e44c-a90fd0954350"
      },
      "execution_count": null,
      "outputs": [
        {
          "output_type": "stream",
          "name": "stdout",
          "text": [
            "1 3 5 7 9 11 13 15 17 19 21 23 25 27 29 31 33 35 37 39 41 43 45 47 49 51 53 55 57 59 61 63 65 67 69 71 73 75 77 79 81 83 85 87 89 91 93 95 97 99 "
          ]
        }
      ]
    },
    {
      "cell_type": "code",
      "source": [
        "#Ejercicio 1\n",
        "print(\"Sólo sé ... \\n ... que nada sé.\")"
      ],
      "metadata": {
        "colab": {
          "base_uri": "https://localhost:8080/"
        },
        "id": "YGOAhQ5cOzt8",
        "outputId": "88d92932-1cb6-4dd5-920b-5484948c9880"
      },
      "execution_count": 1,
      "outputs": [
        {
          "output_type": "stream",
          "name": "stdout",
          "text": [
            "Sólo sé ... \n",
            " ... que nada sé.\n"
          ]
        }
      ]
    },
    {
      "cell_type": "code",
      "source": [
        "#jercicio 2\n",
        "my_age = 25\n",
        "print(\"tengo\",my_age,\"años\")"
      ],
      "metadata": {
        "colab": {
          "base_uri": "https://localhost:8080/"
        },
        "id": "rKTxQYPDQIa3",
        "outputId": "a3ffb04b-d14b-4b3d-d6a1-cef4a80cf3be"
      },
      "execution_count": 2,
      "outputs": [
        {
          "output_type": "stream",
          "name": "stdout",
          "text": [
            "tengo 25 años\n"
          ]
        }
      ]
    },
    {
      "cell_type": "markdown",
      "source": [
        "# **Tipos de datos**\n",
        "**Entero**"
      ],
      "metadata": {
        "id": "hhG4QQGwUVdU"
      }
    },
    {
      "cell_type": "code",
      "source": [
        "### cast para enteros\n",
        "total = '120'\n",
        "print(total)\n",
        "print(type(total))\n",
        "## cambio con int\n",
        "total = int(total)\n",
        "print(total)\n",
        "print(type(total))"
      ],
      "metadata": {
        "colab": {
          "base_uri": "https://localhost:8080/"
        },
        "id": "Kt0SsBjDR2Mn",
        "outputId": "93a51a9c-775f-4836-fcb5-34aad9e3da58"
      },
      "execution_count": 6,
      "outputs": [
        {
          "output_type": "stream",
          "name": "stdout",
          "text": [
            "120\n",
            "<class 'str'>\n",
            "120\n",
            "<class 'int'>\n"
          ]
        }
      ]
    },
    {
      "cell_type": "code",
      "source": [
        "edad = int(input('Por favor entre su edad:'))\n",
        "print(edad)\n",
        "print(type(edad))"
      ],
      "metadata": {
        "colab": {
          "base_uri": "https://localhost:8080/"
        },
        "id": "OB9xzY5FSh9c",
        "outputId": "401edbef-d3db-45b7-ea33-c77f72242a52"
      },
      "execution_count": 7,
      "outputs": [
        {
          "output_type": "stream",
          "name": "stdout",
          "text": [
            "Por favor entre su edad:25\n",
            "25\n",
            "<class 'int'>\n"
          ]
        }
      ]
    },
    {
      "cell_type": "markdown",
      "source": [
        "**Flotante**"
      ],
      "metadata": {
        "id": "amBovgGeUsjz"
      }
    },
    {
      "cell_type": "code",
      "source": [
        "x=float(input('ingrese un numero:'))\n",
        "print(x)\n",
        "print(type(x))\n",
        "y=x+5\n",
        "print(y)"
      ],
      "metadata": {
        "colab": {
          "base_uri": "https://localhost:8080/"
        },
        "id": "RFv2QHn7Uuj4",
        "outputId": "c1ba9f51-ed3c-4908-a30e-59741bfe78c0"
      },
      "execution_count": 8,
      "outputs": [
        {
          "output_type": "stream",
          "name": "stdout",
          "text": [
            "ingrese un numero:4\n",
            "4.0\n",
            "<class 'float'>\n",
            "9.0\n"
          ]
        }
      ]
    }
  ]
}