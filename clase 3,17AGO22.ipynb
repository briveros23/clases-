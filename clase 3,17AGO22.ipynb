{
 "cells": [
  {
   "cell_type": "code",
   "execution_count": 37,
   "id": "b280cb19",
   "metadata": {},
   "outputs": [
    {
     "data": {
      "text/plain": [
       "array([  1,   2,   3,   4,   5,   6,   7,   8,   9,  10,  11,  12,  13,\n",
       "        14,  15,  16,  17,  18,  19,  20,  21,  22,  23,  24,  25,  26,\n",
       "        27,  28,  29,  30,  31,  32,  33,  34,  35,  36,  37,  38,  39,\n",
       "        40,  41,  42,  43,  44,  45,  46,  47,  48,  49,  50,  51,  52,\n",
       "        53,  54,  55,  56,  57,  58,  59,  60,  61,  62,  63,  64,  65,\n",
       "        66,  67,  68,  69,  70,  71,  72,  73,  74,  75,  76,  77,  78,\n",
       "        79,  80,  81,  82,  83,  84,  85,  86,  87,  88,  89,  90,  91,\n",
       "        92,  93,  94,  95,  96,  97,  98,  99, 100])"
      ]
     },
     "execution_count": 37,
     "metadata": {},
     "output_type": "execute_result"
    }
   ],
   "source": [
    "import numpy as np\n",
    "import matplotlib.pyplot as plt\n",
    "x=np.arange(1,101,1) #vector de valores \n",
    "x"
   ]
  },
  {
   "cell_type": "code",
   "execution_count": 36,
   "id": "54f67123",
   "metadata": {},
   "outputs": [
    {
     "name": "stdout",
     "output_type": "stream",
     "text": [
      "1 2 3 4 5 6 7 8 9 10 11 12 13 14 15 16 17 18 19 20 21 22 23 24 25 26 27 28 29 30 31 32 33 34 35 36 37 38 39 40 41 42 43 44 45 46 47 48 49 50 51 52 53 54 55 56 57 58 59 60 61 62 63 64 65 66 67 68 69 70 71 72 73 74 75 76 77 78 79 80 81 82 83 84 85 86 87 88 89 90 91 92 93 94 95 96 97 98 99 100 "
     ]
    }
   ],
   "source": [
    "for n in range(1,101):#secuencia de datos \n",
    "    print(n,end=' ')"
   ]
  },
  {
   "cell_type": "markdown",
   "id": "1856ce5d",
   "metadata": {},
   "source": [
    "for _ in range (100):\n",
    "    if((_%2)):\n",
    "        print(_,end=' ')\n"
   ]
  },
  {
   "cell_type": "code",
   "execution_count": 35,
   "id": "4c256b6d",
   "metadata": {},
   "outputs": [
    {
     "name": "stdout",
     "output_type": "stream",
     "text": [
      "solo se...\n",
      "...que nada se\n"
     ]
    }
   ],
   "source": [
    "print(\"solo se...\\n...que nada se\") #ejercicio "
   ]
  },
  {
   "cell_type": "markdown",
   "id": "ac1a76ae",
   "metadata": {},
   "source": [
    "# tipos de variables "
   ]
  },
  {
   "cell_type": "code",
   "execution_count": 39,
   "id": "77014000",
   "metadata": {},
   "outputs": [
    {
     "name": "stdout",
     "output_type": "stream",
     "text": [
      "el valor de x es 1\n",
      "el valor de y es vamos a programar\n"
     ]
    }
   ],
   "source": [
    "x=1 #variable int\n",
    "print(\"el valor de x es\",x)\n",
    "y=\"vamos a programar\"\n",
    "print(\"el valor de y es\",y)\n"
   ]
  },
  {
   "cell_type": "code",
   "execution_count": 41,
   "id": "1a93d20d",
   "metadata": {},
   "outputs": [
    {
     "name": "stdout",
     "output_type": "stream",
     "text": [
      "yo tengo 23 años\n"
     ]
    }
   ],
   "source": [
    "x=23 #ejercicio \n",
    "print(\"yo tengo\",x,\"años\")"
   ]
  },
  {
   "cell_type": "markdown",
   "id": "c8fc0983",
   "metadata": {},
   "source": [
    "# tipos de datos basicos "
   ]
  },
  {
   "cell_type": "code",
   "execution_count": 42,
   "id": "a89979b4",
   "metadata": {},
   "outputs": [
    {
     "name": "stdout",
     "output_type": "stream",
     "text": [
      "120\n",
      "<class 'str'>\n",
      "120\n",
      "<class 'int'>\n"
     ]
    }
   ],
   "source": [
    "total = '120'\n",
    "print(total)\n",
    "print(type(total))\n",
    "\n",
    "total = int('120')\n",
    "print(total)\n",
    "print(type(total))"
   ]
  },
  {
   "cell_type": "code",
   "execution_count": null,
   "id": "595c9a5c",
   "metadata": {},
   "outputs": [],
   "source": [
    "x=float(input('ingrese un numero:'))\n",
    "print(x)\n",
    "print(type(x))\n",
    "y=x+5\n",
    "print(y)"
   ]
  }
 ],
 "metadata": {
  "kernelspec": {
   "display_name": "Python 3",
   "language": "python",
   "name": "python3"
  },
  "language_info": {
   "codemirror_mode": {
    "name": "ipython",
    "version": 3
   },
   "file_extension": ".py",
   "mimetype": "text/x-python",
   "name": "python",
   "nbconvert_exporter": "python",
   "pygments_lexer": "ipython3",
   "version": "3.8.8"
  }
 },
 "nbformat": 4,
 "nbformat_minor": 5
}
